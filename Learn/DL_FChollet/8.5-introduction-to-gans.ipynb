{
 "cells": [
  {
   "cell_type": "code",
   "execution_count": 1,
   "metadata": {},
   "outputs": [
    {
     "name": "stderr",
     "output_type": "stream",
     "text": [
      "Using TensorFlow backend.\n"
     ]
    },
    {
     "data": {
      "text/plain": [
       "'2.0.8'"
      ]
     },
     "execution_count": 1,
     "metadata": {},
     "output_type": "execute_result"
    }
   ],
   "source": [
    "import keras\n",
    "keras.__version__"
   ]
  },
  {
   "cell_type": "markdown",
   "metadata": {},
   "source": [
    "# Introduction to generative adversarial networks\n",
    "\n",
    "This notebook contains the second code sample found in Chapter 8, Section 5 of [Deep Learning with Python](https://www.manning.com/books/deep-learning-with-python?a_aid=keras&a_bid=76564dff). Note that the original text features far more content, in particular further explanations and figures: in this notebook, you will only find source code and related comments.\n",
    "\n",
    "---\n",
    "[...]"
   ]
  },
  {
   "cell_type": "markdown",
   "metadata": {},
   "source": [
    "## A schematic GAN implementation\n",
    "\n",
    "\n",
    "In what follows, we explain how to implement a GAN in Keras, in its barest form -- since GANs are quite advanced, diving deeply into the \n",
    "technical details would be out of scope for us. Our specific implementation will be a deep convolutional GAN, or DCGAN: a GAN where the \n",
    "generator and discriminator are deep convnets. In particular, it leverages a `Conv2DTranspose` layer for image upsampling in the generator.\n",
    "\n",
    "We will train our GAN on images from CIFAR10, a dataset of 50,000 32x32 RGB images belong to 10 classes (5,000 images per class). To make \n",
    "things even easier, we will only use images belonging to the class \"frog\".\n",
    "\n",
    "Schematically, our GAN looks like this:\n",
    "\n",
    "* A `generator` network maps vectors of shape `(latent_dim,)` to images of shape `(32, 32, 3)`.\n",
    "* A `discriminator` network maps images of shape (32, 32, 3) to a binary score estimating the probability that the image is real.\n",
    "* A `gan` network chains the generator and the discriminator together: `gan(x) = discriminator(generator(x))`. Thus this `gan` network maps \n",
    "latent space vectors to the discriminator's assessment of the realism of these latent vectors as decoded by the generator.\n",
    "* We train the discriminator using examples of real and fake images along with \"real\"/\"fake\" labels, as we would train any regular image \n",
    "classification model.\n",
    "* To train the generator, we use the gradients of the generator's weights with regard to the loss of the `gan` model. This means that, at \n",
    "every step, we move the weights of the generator in a direction that will make the discriminator more likely to classify as \"real\" the \n",
    "images decoded by the generator. I.e. we train the generator to fool the discriminator."
   ]
  },
  {
   "cell_type": "markdown",
   "metadata": {},
   "source": [
    "## A bag of tricks\n",
    "\n",
    "\n",
    "Training GANs and tuning GAN implementations is notoriously difficult. There are a number of known \"tricks\" that one should keep in mind. \n",
    "Like most things in deep learning, it is more alchemy than science: these tricks are really just heuristics, not theory-backed guidelines. \n",
    "They are backed by some level of intuitive understanding of the phenomenon at hand, and they are known to work well empirically, albeit not \n",
    "necessarily in every context.\n",
    "\n",
    "Here are a few of the tricks that we leverage in our own implementation of a GAN generator and discriminator below. It is not an exhaustive \n",
    "list of GAN-related tricks; you will find many more across the GAN literature.\n",
    "\n",
    "* We use `tanh` as the last activation in the generator, instead of `sigmoid`, which would be more commonly found in other types of models.\n",
    "* We sample points from the latent space using a _normal distribution_ (Gaussian distribution), not a uniform distribution.\n",
    "* Stochasticity is good to induce robustness. Since GAN training results in a dynamic equilibrium, GANs are likely to get \"stuck\" in all sorts of ways. \n",
    "Introducing randomness during training helps prevent this. We introduce randomness in two ways: 1) we use dropout in the discriminator, 2) \n",
    "we add some random noise to the labels for the discriminator.\n",
    "* Sparse gradients can hinder GAN training. In deep learning, sparsity is often a desirable property, but not in GANs. There are two things \n",
    "that can induce gradient sparsity: 1) max pooling operations, 2) ReLU activations. Instead of max pooling, we recommend using strided \n",
    "convolutions for downsampling, and we recommend using a `LeakyReLU` layer instead of a ReLU activation. It is similar to ReLU but it \n",
    "relaxes sparsity constraints by allowing small negative activation values.\n",
    "* In generated images, it is common to see \"checkerboard artifacts\" caused by unequal coverage of the pixel space in the generator. To fix \n",
    "this, we use a kernel size that is divisible by the stride size, whenever we use a strided `Conv2DTranpose` or `Conv2D` in both the \n",
    "generator and discriminator."
   ]
  },
  {
   "cell_type": "markdown",
   "metadata": {},
   "source": [
    "## The generator\n",
    "\n",
    "\n",
    "First, we develop a `generator` model, which turns a vector (from the latent space -- during training it will sampled at random) into a \n",
    "candidate image. One of the many issues that commonly arise with GANs is that the generator gets stuck with generated images that look like \n",
    "noise. A possible solution is to use dropout on both the discriminator and generator."
   ]
  },
  {
   "cell_type": "code",
   "execution_count": 1,
   "metadata": {},
   "outputs": [
    {
     "name": "stderr",
     "output_type": "stream",
     "text": [
      "Using TensorFlow backend.\n"
     ]
    },
    {
     "name": "stdout",
     "output_type": "stream",
     "text": [
      "_________________________________________________________________\n",
      "Layer (type)                 Output Shape              Param #   \n",
      "=================================================================\n",
      "input_1 (InputLayer)         (None, 32)                0         \n",
      "_________________________________________________________________\n",
      "dense_1 (Dense)              (None, 32768)             1081344   \n",
      "_________________________________________________________________\n",
      "leaky_re_lu_1 (LeakyReLU)    (None, 32768)             0         \n",
      "_________________________________________________________________\n",
      "reshape_1 (Reshape)          (None, 16, 16, 128)       0         \n",
      "_________________________________________________________________\n",
      "conv2d_1 (Conv2D)            (None, 16, 16, 256)       819456    \n",
      "_________________________________________________________________\n",
      "leaky_re_lu_2 (LeakyReLU)    (None, 16, 16, 256)       0         \n",
      "_________________________________________________________________\n",
      "conv2d_transpose_1 (Conv2DTr (None, 32, 32, 256)       1048832   \n",
      "_________________________________________________________________\n",
      "leaky_re_lu_3 (LeakyReLU)    (None, 32, 32, 256)       0         \n",
      "_________________________________________________________________\n",
      "conv2d_2 (Conv2D)            (None, 32, 32, 256)       1638656   \n",
      "_________________________________________________________________\n",
      "leaky_re_lu_4 (LeakyReLU)    (None, 32, 32, 256)       0         \n",
      "_________________________________________________________________\n",
      "conv2d_3 (Conv2D)            (None, 32, 32, 256)       1638656   \n",
      "_________________________________________________________________\n",
      "leaky_re_lu_5 (LeakyReLU)    (None, 32, 32, 256)       0         \n",
      "_________________________________________________________________\n",
      "conv2d_4 (Conv2D)            (None, 32, 32, 3)         37635     \n",
      "=================================================================\n",
      "Total params: 6,264,579\n",
      "Trainable params: 6,264,579\n",
      "Non-trainable params: 0\n",
      "_________________________________________________________________\n"
     ]
    }
   ],
   "source": [
    "import keras\n",
    "from keras import layers\n",
    "import numpy as np\n",
    "\n",
    "latent_dim = 32\n",
    "height = 32\n",
    "width = 32\n",
    "channels = 3\n",
    "\n",
    "generator_input = keras.Input(shape=(latent_dim,))\n",
    "\n",
    "# First, transform the input into a 16x16 128-channels feature map\n",
    "x = layers.Dense(128 * 16 * 16)(generator_input)\n",
    "x = layers.LeakyReLU()(x)\n",
    "x = layers.Reshape((16, 16, 128))(x)\n",
    "\n",
    "# Then, add a convolution layer\n",
    "x = layers.Conv2D(256, 5, padding='same')(x)\n",
    "x = layers.LeakyReLU()(x)\n",
    "\n",
    "# Upsample to 32x32\n",
    "x = layers.Conv2DTranspose(256, 4, strides=2, padding='same')(x)\n",
    "x = layers.LeakyReLU()(x)\n",
    "\n",
    "# Few more conv layers\n",
    "x = layers.Conv2D(256, 5, padding='same')(x)\n",
    "x = layers.LeakyReLU()(x)\n",
    "x = layers.Conv2D(256, 5, padding='same')(x)\n",
    "x = layers.LeakyReLU()(x)\n",
    "\n",
    "# Produce a 32x32 1-channel feature map\n",
    "x = layers.Conv2D(channels, 7, activation='tanh', padding='same')(x)\n",
    "generator = keras.models.Model(generator_input, x)\n",
    "generator.summary()"
   ]
  },
  {
   "cell_type": "markdown",
   "metadata": {},
   "source": [
    "## The discriminator\n",
    "\n",
    "\n",
    "Then, we develop a `discriminator` model, that takes as input a candidate image (real or synthetic) and classifies it into one of two \n",
    "classes, either \"generated image\" or \"real image that comes from the training set\"."
   ]
  },
  {
   "cell_type": "code",
   "execution_count": 2,
   "metadata": {},
   "outputs": [
    {
     "name": "stdout",
     "output_type": "stream",
     "text": [
      "_________________________________________________________________\n",
      "Layer (type)                 Output Shape              Param #   \n",
      "=================================================================\n",
      "input_2 (InputLayer)         (None, 32, 32, 3)         0         \n",
      "_________________________________________________________________\n",
      "conv2d_5 (Conv2D)            (None, 30, 30, 128)       3584      \n",
      "_________________________________________________________________\n",
      "leaky_re_lu_6 (LeakyReLU)    (None, 30, 30, 128)       0         \n",
      "_________________________________________________________________\n",
      "conv2d_6 (Conv2D)            (None, 14, 14, 128)       262272    \n",
      "_________________________________________________________________\n",
      "leaky_re_lu_7 (LeakyReLU)    (None, 14, 14, 128)       0         \n",
      "_________________________________________________________________\n",
      "conv2d_7 (Conv2D)            (None, 6, 6, 128)         262272    \n",
      "_________________________________________________________________\n",
      "leaky_re_lu_8 (LeakyReLU)    (None, 6, 6, 128)         0         \n",
      "_________________________________________________________________\n",
      "conv2d_8 (Conv2D)            (None, 2, 2, 128)         262272    \n",
      "_________________________________________________________________\n",
      "leaky_re_lu_9 (LeakyReLU)    (None, 2, 2, 128)         0         \n",
      "_________________________________________________________________\n",
      "flatten_1 (Flatten)          (None, 512)               0         \n",
      "_________________________________________________________________\n",
      "dropout_1 (Dropout)          (None, 512)               0         \n",
      "_________________________________________________________________\n",
      "dense_2 (Dense)              (None, 1)                 513       \n",
      "=================================================================\n",
      "Total params: 790,913\n",
      "Trainable params: 790,913\n",
      "Non-trainable params: 0\n",
      "_________________________________________________________________\n"
     ]
    }
   ],
   "source": [
    "discriminator_input = layers.Input(shape=(height, width, channels))\n",
    "x = layers.Conv2D(128, 3)(discriminator_input)\n",
    "x = layers.LeakyReLU()(x)\n",
    "x = layers.Conv2D(128, 4, strides=2)(x)\n",
    "x = layers.LeakyReLU()(x)\n",
    "x = layers.Conv2D(128, 4, strides=2)(x)\n",
    "x = layers.LeakyReLU()(x)\n",
    "x = layers.Conv2D(128, 4, strides=2)(x)\n",
    "x = layers.LeakyReLU()(x)\n",
    "x = layers.Flatten()(x)\n",
    "\n",
    "# One dropout layer - important trick!\n",
    "x = layers.Dropout(0.4)(x)\n",
    "\n",
    "# Classification layer\n",
    "x = layers.Dense(1, activation='sigmoid')(x)\n",
    "\n",
    "discriminator = keras.models.Model(discriminator_input, x)\n",
    "discriminator.summary()\n",
    "\n",
    "# To stabilize training, we use learning rate decay\n",
    "# and gradient clipping (by value) in the optimizer.\n",
    "discriminator_optimizer = keras.optimizers.RMSprop(lr=0.0008, clipvalue=1.0, decay=1e-8)\n",
    "discriminator.compile(optimizer=discriminator_optimizer, loss='binary_crossentropy')"
   ]
  },
  {
   "cell_type": "markdown",
   "metadata": {},
   "source": [
    "## The adversarial network\n",
    "\n",
    "Finally, we setup the GAN, which chains the generator and the discriminator. This is the model that, when trained, will move the generator \n",
    "in a direction that improves its ability to fool the discriminator. This model turns latent space points into a classification decision, \n",
    "\"fake\" or \"real\", and it is meant to be trained with labels that are always \"these are real images\". So training `gan` will updates the \n",
    "weights of `generator` in a way that makes `discriminator` more likely to predict \"real\" when looking at fake images. Very importantly, we \n",
    "set the discriminator to be frozen during training (non-trainable): its weights will not be updated when training `gan`. If the \n",
    "discriminator weights could be updated during this process, then we would be training the discriminator to always predict \"real\", which is \n",
    "not what we want!"
   ]
  },
  {
   "cell_type": "code",
   "execution_count": 3,
   "metadata": {
    "collapsed": true
   },
   "outputs": [],
   "source": [
    "# Set discriminator weights to non-trainable\n",
    "# (will only apply to the `gan` model)\n",
    "discriminator.trainable = False\n",
    "\n",
    "gan_input = keras.Input(shape=(latent_dim,))\n",
    "gan_output = discriminator(generator(gan_input))\n",
    "gan = keras.models.Model(gan_input, gan_output)\n",
    "\n",
    "gan_optimizer = keras.optimizers.RMSprop(lr=0.0004, clipvalue=1.0, decay=1e-8)\n",
    "gan.compile(optimizer=gan_optimizer, loss='binary_crossentropy')"
   ]
  },
  {
   "cell_type": "markdown",
   "metadata": {},
   "source": [
    "## How to train your DCGAN\n",
    "\n",
    "Now we can start training. To recapitulate, this is schematically what the training loop looks like:\n",
    "\n",
    "```\n",
    "for each epoch:\n",
    "    * Draw random points in the latent space (random noise).\n",
    "    * Generate images with `generator` using this random noise.\n",
    "    * Mix the generated images with real ones.\n",
    "    * Train `discriminator` using these mixed images, with corresponding targets, either \"real\" (for the real images) or \"fake\" (for the generated images).\n",
    "    * Draw new random points in the latent space.\n",
    "    * Train `gan` using these random vectors, with targets that all say \"these are real images\". This will update the weights of the generator (only, since discriminator is frozen inside `gan`) to move them towards getting the discriminator to predict \"these are real images\" for generated images, i.e. this trains the generator to fool the discriminator.\n",
    "```\n",
    "\n",
    "Let's implement it:"
   ]
  },
  {
   "cell_type": "code",
   "execution_count": 4,
   "metadata": {},
   "outputs": [
    {
     "name": "stdout",
     "output_type": "stream",
     "text": [
      "discriminator loss at step 0: 0.685675\n",
      "adversarial loss at step 0: 0.667591\n",
      "discriminator loss at step 100: 0.756201\n",
      "adversarial loss at step 100: 0.820905\n",
      "discriminator loss at step 200: 0.699047\n",
      "adversarial loss at step 200: 0.776581\n",
      "discriminator loss at step 300: 0.684602\n",
      "adversarial loss at step 300: 0.513813\n",
      "discriminator loss at step 400: 0.707092\n",
      "adversarial loss at step 400: 0.716778\n",
      "discriminator loss at step 500: 0.686278\n",
      "adversarial loss at step 500: 0.741214\n",
      "discriminator loss at step 600: 0.692786\n",
      "adversarial loss at step 600: 0.745891\n",
      "discriminator loss at step 700: 0.69771\n",
      "adversarial loss at step 700: 0.781026\n",
      "discriminator loss at step 800: 0.69236\n",
      "adversarial loss at step 800: 0.748769\n",
      "discriminator loss at step 900: 0.663193\n",
      "adversarial loss at step 900: 0.689923\n",
      "discriminator loss at step 1000: 0.706922\n",
      "adversarial loss at step 1000: 0.741314\n",
      "discriminator loss at step 1100: 0.682189\n",
      "adversarial loss at step 1100: 0.76548\n",
      "discriminator loss at step 1200: 0.687244\n",
      "adversarial loss at step 1200: 0.746018\n",
      "discriminator loss at step 1300: 0.697884\n",
      "adversarial loss at step 1300: 0.766032\n",
      "discriminator loss at step 1400: 0.691977\n",
      "adversarial loss at step 1400: 0.735184\n",
      "discriminator loss at step 1500: 0.696238\n",
      "adversarial loss at step 1500: 0.738426\n",
      "discriminator loss at step 1600: 0.698334\n",
      "adversarial loss at step 1600: 0.741093\n",
      "discriminator loss at step 1700: 0.70315\n",
      "adversarial loss at step 1700: 0.736702\n",
      "discriminator loss at step 1800: 0.693836\n",
      "adversarial loss at step 1800: 0.742768\n",
      "discriminator loss at step 1900: 0.69059\n",
      "adversarial loss at step 1900: 0.741162\n",
      "discriminator loss at step 2000: 0.696293\n",
      "adversarial loss at step 2000: 0.755151\n",
      "discriminator loss at step 2100: 0.686166\n",
      "adversarial loss at step 2100: 0.755129\n",
      "discriminator loss at step 2200: 0.692612\n",
      "adversarial loss at step 2200: 0.772408\n",
      "discriminator loss at step 2300: 0.704013\n",
      "adversarial loss at step 2300: 0.776998\n",
      "discriminator loss at step 2400: 0.693268\n",
      "adversarial loss at step 2400: 0.70731\n",
      "discriminator loss at step 2500: 0.684289\n",
      "adversarial loss at step 2500: 0.742162\n",
      "discriminator loss at step 2600: 0.700483\n",
      "adversarial loss at step 2600: 0.734719\n",
      "discriminator loss at step 2700: 0.699952\n",
      "adversarial loss at step 2700: 0.759745\n",
      "discriminator loss at step 2800: 0.697416\n",
      "adversarial loss at step 2800: 0.733726\n",
      "discriminator loss at step 2900: 0.697604\n",
      "adversarial loss at step 2900: 0.740891\n",
      "discriminator loss at step 3000: 0.698498\n",
      "adversarial loss at step 3000: 0.754564\n",
      "discriminator loss at step 3100: 0.695516\n",
      "adversarial loss at step 3100: 0.759486\n",
      "discriminator loss at step 3200: 0.693453\n",
      "adversarial loss at step 3200: 0.769369\n",
      "discriminator loss at step 3300: 1.5083\n",
      "adversarial loss at step 3300: 0.726621\n",
      "discriminator loss at step 3400: 0.686934\n",
      "adversarial loss at step 3400: 0.747121\n",
      "discriminator loss at step 3500: 0.689791\n",
      "adversarial loss at step 3500: 0.751882\n",
      "discriminator loss at step 3600: 0.71331\n",
      "adversarial loss at step 3600: 0.704916\n",
      "discriminator loss at step 3700: 0.690504\n",
      "adversarial loss at step 3700: 0.853764\n",
      "discriminator loss at step 3800: 0.688844\n",
      "adversarial loss at step 3800: 0.791077\n",
      "discriminator loss at step 3900: 0.679162\n",
      "adversarial loss at step 3900: 0.724979\n",
      "discriminator loss at step 4000: 0.676585\n",
      "adversarial loss at step 4000: 0.69554\n",
      "discriminator loss at step 4100: 0.693313\n",
      "adversarial loss at step 4100: 0.742666\n",
      "discriminator loss at step 4200: 0.678367\n",
      "adversarial loss at step 4200: 0.778793\n",
      "discriminator loss at step 4300: 0.699712\n",
      "adversarial loss at step 4300: 0.740457\n",
      "discriminator loss at step 4400: 0.697605\n",
      "adversarial loss at step 4400: 0.755847\n",
      "discriminator loss at step 4500: 0.710596\n",
      "adversarial loss at step 4500: 0.814832\n",
      "discriminator loss at step 4600: 0.706518\n",
      "adversarial loss at step 4600: 0.83636\n",
      "discriminator loss at step 4700: 0.687217\n",
      "adversarial loss at step 4700: 0.775736\n",
      "discriminator loss at step 4800: 0.769103\n",
      "adversarial loss at step 4800: 0.774639\n",
      "discriminator loss at step 4900: 0.692414\n",
      "adversarial loss at step 4900: 0.775192\n",
      "discriminator loss at step 5000: 0.715357\n",
      "adversarial loss at step 5000: 0.775003\n",
      "discriminator loss at step 5100: 0.703434\n",
      "adversarial loss at step 5100: 0.940242\n",
      "discriminator loss at step 5200: 0.704034\n",
      "adversarial loss at step 5200: 0.708327\n",
      "discriminator loss at step 5300: 0.698559\n",
      "adversarial loss at step 5300: 0.730377\n",
      "discriminator loss at step 5400: 0.684378\n",
      "adversarial loss at step 5400: 0.759259\n",
      "discriminator loss at step 5500: 0.693699\n",
      "adversarial loss at step 5500: 0.700122\n",
      "discriminator loss at step 5600: 0.715242\n",
      "adversarial loss at step 5600: 0.808961\n",
      "discriminator loss at step 5700: 0.689339\n",
      "adversarial loss at step 5700: 0.621725\n",
      "discriminator loss at step 5800: 0.679717\n",
      "adversarial loss at step 5800: 0.787711\n",
      "discriminator loss at step 5900: 0.700126\n",
      "adversarial loss at step 5900: 0.742493\n",
      "discriminator loss at step 6000: 0.692087\n",
      "adversarial loss at step 6000: 0.839669\n",
      "discriminator loss at step 6100: 0.677867\n",
      "adversarial loss at step 6100: 0.797158\n",
      "discriminator loss at step 6200: 0.70392\n",
      "adversarial loss at step 6200: 0.842135\n",
      "discriminator loss at step 6300: 0.688377\n",
      "adversarial loss at step 6300: 0.718633\n",
      "discriminator loss at step 6400: 0.781234\n",
      "adversarial loss at step 6400: 0.710833\n",
      "discriminator loss at step 6500: 0.682696\n",
      "adversarial loss at step 6500: 0.739674\n",
      "discriminator loss at step 6600: 0.693081\n",
      "adversarial loss at step 6600: 0.747336\n",
      "discriminator loss at step 6700: 0.681836\n",
      "adversarial loss at step 6700: 0.780143\n",
      "discriminator loss at step 6800: 0.728136\n",
      "adversarial loss at step 6800: 0.838522\n",
      "discriminator loss at step 6900: 0.660475\n",
      "adversarial loss at step 6900: 0.717434\n",
      "discriminator loss at step 7000: 0.672144\n",
      "adversarial loss at step 7000: 0.948783\n",
      "discriminator loss at step 7100: 0.692428\n",
      "adversarial loss at step 7100: 0.837047\n",
      "discriminator loss at step 7200: 0.731133\n",
      "adversarial loss at step 7200: 0.728315\n",
      "discriminator loss at step 7300: 0.671766\n",
      "adversarial loss at step 7300: 0.793155\n",
      "discriminator loss at step 7400: 0.712387\n",
      "adversarial loss at step 7400: 0.807759\n",
      "discriminator loss at step 7500: 0.68638\n",
      "adversarial loss at step 7500: 0.967421\n",
      "discriminator loss at step 7600: 0.690096\n",
      "adversarial loss at step 7600: 0.811904\n",
      "discriminator loss at step 7700: 0.702784\n",
      "adversarial loss at step 7700: 0.867017\n",
      "discriminator loss at step 7800: 0.674138\n",
      "adversarial loss at step 7800: 0.837909\n",
      "discriminator loss at step 7900: 0.674747\n",
      "adversarial loss at step 7900: 0.743664\n",
      "discriminator loss at step 8000: 0.680357\n",
      "adversarial loss at step 8000: 0.810859\n",
      "discriminator loss at step 8100: 0.688885\n",
      "adversarial loss at step 8100: 0.786809\n",
      "discriminator loss at step 8200: 0.671557\n",
      "adversarial loss at step 8200: 0.784159\n",
      "discriminator loss at step 8300: 0.70359\n",
      "adversarial loss at step 8300: 0.95692\n",
      "discriminator loss at step 8400: 0.720167\n",
      "adversarial loss at step 8400: 1.14066\n",
      "discriminator loss at step 8500: 0.747376\n",
      "adversarial loss at step 8500: 0.630725\n",
      "discriminator loss at step 8600: 0.688931\n",
      "adversarial loss at step 8600: 0.849245\n",
      "discriminator loss at step 8700: 0.707559\n",
      "adversarial loss at step 8700: 0.713202\n",
      "discriminator loss at step 8800: 0.673593\n",
      "adversarial loss at step 8800: 0.832419\n",
      "discriminator loss at step 8900: 0.6777\n",
      "adversarial loss at step 8900: 0.773395\n",
      "discriminator loss at step 9000: 0.659887\n",
      "adversarial loss at step 9000: 0.77255\n",
      "discriminator loss at step 9100: 0.675182\n",
      "adversarial loss at step 9100: 0.749544\n",
      "discriminator loss at step 9200: 0.687147\n",
      "adversarial loss at step 9200: 0.836509\n",
      "discriminator loss at step 9300: 0.690807\n",
      "adversarial loss at step 9300: 0.829561\n",
      "discriminator loss at step 9400: 0.656649\n",
      "adversarial loss at step 9400: 0.788181\n",
      "discriminator loss at step 9500: 0.703494\n",
      "adversarial loss at step 9500: 0.78302\n",
      "discriminator loss at step 9600: 0.680718\n",
      "adversarial loss at step 9600: 0.813078\n",
      "discriminator loss at step 9700: 0.704956\n",
      "adversarial loss at step 9700: 0.761652\n",
      "discriminator loss at step 9800: 0.673504\n",
      "adversarial loss at step 9800: 0.853213\n",
      "discriminator loss at step 9900: 0.669288\n",
      "adversarial loss at step 9900: 0.677691\n"
     ]
    }
   ],
   "source": [
    "import os\n",
    "from keras.preprocessing import image\n",
    "\n",
    "# Load CIFAR10 data\n",
    "(x_train, y_train), (_, _) = keras.datasets.cifar10.load_data()\n",
    "\n",
    "# Select frog images (class 6)\n",
    "x_train = x_train[y_train.flatten() == 6]\n",
    "\n",
    "# Normalize data\n",
    "x_train = x_train.reshape(\n",
    "    (x_train.shape[0],) + (height, width, channels)).astype('float32') / 255.\n",
    "\n",
    "iterations = 10000\n",
    "batch_size = 20\n",
    "save_dir = '/home/ubuntu/gan_images/'\n",
    "\n",
    "# Start training loop\n",
    "start = 0\n",
    "for step in range(iterations):\n",
    "    # Sample random points in the latent space\n",
    "    random_latent_vectors = np.random.normal(size=(batch_size, latent_dim))\n",
    "\n",
    "    # Decode them to fake images\n",
    "    generated_images = generator.predict(random_latent_vectors)\n",
    "\n",
    "    # Combine them with real images\n",
    "    stop = start + batch_size\n",
    "    real_images = x_train[start: stop]\n",
    "    combined_images = np.concatenate([generated_images, real_images])\n",
    "\n",
    "    # Assemble labels discriminating real from fake images\n",
    "    labels = np.concatenate([np.ones((batch_size, 1)),\n",
    "                             np.zeros((batch_size, 1))])\n",
    "    # Add random noise to the labels - important trick!\n",
    "    labels += 0.05 * np.random.random(labels.shape)\n",
    "\n",
    "    # Train the discriminator\n",
    "    d_loss = discriminator.train_on_batch(combined_images, labels)\n",
    "\n",
    "    # sample random points in the latent space\n",
    "    random_latent_vectors = np.random.normal(size=(batch_size, latent_dim))\n",
    "\n",
    "    # Assemble labels that say \"all real images\"\n",
    "    misleading_targets = np.zeros((batch_size, 1))\n",
    "\n",
    "    # Train the generator (via the gan model,\n",
    "    # where the discriminator weights are frozen)\n",
    "    a_loss = gan.train_on_batch(random_latent_vectors, misleading_targets)\n",
    "    \n",
    "    start += batch_size\n",
    "    if start > len(x_train) - batch_size:\n",
    "      start = 0\n",
    "\n",
    "    # Occasionally save / plot\n",
    "    if step % 100 == 0:\n",
    "        # Save model weights\n",
    "        gan.save_weights('gan.h5')\n",
    "\n",
    "        # Print metrics\n",
    "        print('discriminator loss at step %s: %s' % (step, d_loss))\n",
    "        print('adversarial loss at step %s: %s' % (step, a_loss))\n",
    "\n",
    "        # Save one generated image\n",
    "        img = image.array_to_img(generated_images[0] * 255., scale=False)\n",
    "        img.save(os.path.join(save_dir, 'generated_frog' + str(step) + '.png'))\n",
    "\n",
    "        # Save one real image, for comparison\n",
    "        img = image.array_to_img(real_images[0] * 255., scale=False)\n",
    "        img.save(os.path.join(save_dir, 'real_frog' + str(step) + '.png'))"
   ]
  },
  {
   "cell_type": "markdown",
   "metadata": {
    "collapsed": true
   },
   "source": [
    "Let's display a few of our fake images:"
   ]
  },
  {
   "cell_type": "code",
   "execution_count": 5,
   "metadata": {},
   "outputs": [
    {
     "data": {
      "image/png": "[encoded data removed]",
      "text/plain": [
       "<matplotlib.figure.Figure at 0x7fb172d99f98>"
      ]
     },
     "metadata": {},
     "output_type": "display_data"
    },
    {
     "data": {
      "image/png": "[encoded data removed]",
      "text/plain": [
       "<matplotlib.figure.Figure at 0x7fb17167c470>"
      ]
     },
     "metadata": {},
     "output_type": "display_data"
    },
    {
     "data": {
      "image/png": "[encoded data removed]",
      "text/plain": [
       "<matplotlib.figure.Figure at 0x7fb1713b3780>"
      ]
     },
     "metadata": {},
     "output_type": "display_data"
    },
    {
     "data": {
      "image/png": "[encoded data removed]",
      "text/plain": [
       "<matplotlib.figure.Figure at 0x7fb17130d668>"
      ]
     },
     "metadata": {},
     "output_type": "display_data"
    },
    {
     "data": {
      "image/png": "[encoded data removed]",
      "text/plain": [
       "<matplotlib.figure.Figure at 0x7fb1712dcb38>"
      ]
     },
     "metadata": {},
     "output_type": "display_data"
    },
    {
     "data": {
      "image/png": "[encoded data removed]",
      "text/plain": [
       "<matplotlib.figure.Figure at 0x7fb1712a69e8>"
      ]
     },
     "metadata": {},
     "output_type": "display_data"
    },
    {
     "data": {
      "image/png": "[encoded data removed]",
      "text/plain": [
       "<matplotlib.figure.Figure at 0x7fb17127add8>"
      ]
     },
     "metadata": {},
     "output_type": "display_data"
    },
    {
     "data": {
      "image/png": "[encoded data removed]",
      "text/plain": [
       "<matplotlib.figure.Figure at 0x7fb1711c08d0>"
      ]
     },
     "metadata": {},
     "output_type": "display_data"
    },
    {
     "data": {
      "image/png": "[encoded data removed]",
      "text/plain": [
       "<matplotlib.figure.Figure at 0x7fb171193cc0>"
      ]
     },
     "metadata": {},
     "output_type": "display_data"
    },
    {
     "data": {
      "image/png": "[encoded data removed]",
      "text/plain": [
       "<matplotlib.figure.Figure at 0x7fb17115e4a8>"
      ]
     },
     "metadata": {},
     "output_type": "display_data"
    }
   ],
   "source": [
    "import matplotlib.pyplot as plt\n",
    "\n",
    "# Sample random points in the latent space\n",
    "random_latent_vectors = np.random.normal(size=(10, latent_dim))\n",
    "\n",
    "# Decode them to fake images\n",
    "generated_images = generator.predict(random_latent_vectors)\n",
    "\n",
    "for i in range(generated_images.shape[0]):\n",
    "    img = image.array_to_img(generated_images[i] * 255., scale=False)\n",
    "    plt.figure()\n",
    "    plt.imshow(img)\n",
    "    \n",
    "plt.show()"
   ]
  },
  {
   "cell_type": "markdown",
   "metadata": {},
   "source": [
    "Froggy with some pixellated artifacts."
   ]
  }
 ],
 "metadata": {
  "kernelspec": {
   "display_name": "Python 3",
   "language": "python",
   "name": "python3"
  },
  "language_info": {
   "codemirror_mode": {
    "name": "ipython",
    "version": 3
   },
   "file_extension": ".py",
   "mimetype": "text/x-python",
   "name": "python",
   "nbconvert_exporter": "python",
   "pygments_lexer": "ipython3",
   "version": "3.5.2"
  }
 },
 "nbformat": 4,
 "nbformat_minor": 2
}
