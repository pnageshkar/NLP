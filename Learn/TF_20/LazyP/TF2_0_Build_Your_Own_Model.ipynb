{
  "nbformat": 4,
  "nbformat_minor": 0,
  "metadata": {
    "colab": {
      "name": "TF2.0 Build Your Own Model.ipynb",
      "provenance": []
    },
    "kernelspec": {
      "name": "python3",
      "display_name": "Python 3"
    }
  },
  "cells": [
    {
      "cell_type": "markdown",
      "metadata": {
        "id": "pfvtXtJVarsG",
        "colab_type": "text"
      },
      "source": [
        "# Build your own model in Tensorflow 2.0\n",
        "\n",
        "This notebook will teach you how to build your own custom model, where you define your own variables and how to compute predictions."
      ]
    },
    {
      "cell_type": "code",
      "metadata": {
        "id": "LKhYuwdCanEY",
        "colab_type": "code",
        "colab": {
          "base_uri": "https://localhost:8080/",
          "height": 119
        },
        "outputId": "5acede2a-9a48-4b03-b050-117b977fcb26"
      },
      "source": [
        "# Install TensorFlow\n",
        "# !pip install -q tensorflow-gpu==2.0.0-beta1\n",
        "\n",
        "try:\n",
        "  %tensorflow_version 2.x  # Colab only.\n",
        "except Exception:\n",
        "  pass\n",
        "\n",
        "import tensorflow as tf\n",
        "print(tf.__version__)"
      ],
      "execution_count": null,
      "outputs": [
        {
          "output_type": "stream",
          "text": [
            "`%tensorflow_version` only switches the major version: `1.x` or `2.x`.\n",
            "You set: `2.x  # Colab only.`. This will be interpreted as: `2.x`.\n",
            "\n",
            "\n",
            "TensorFlow 2.x selected.\n",
            "2.0.0-beta1\n"
          ],
          "name": "stdout"
        }
      ]
    },
    {
      "cell_type": "code",
      "metadata": {
        "id": "pzwnqIl8k0lb",
        "colab_type": "code",
        "colab": {}
      },
      "source": [
        "# Other imports\n",
        "import numpy as np\n",
        "import matplotlib.pyplot as plt"
      ],
      "execution_count": null,
      "outputs": []
    },
    {
      "cell_type": "code",
      "metadata": {
        "id": "wuLnnBVjiiH7",
        "colab_type": "code",
        "colab": {}
      },
      "source": [
        "# Define linear regression model\n",
        "\n",
        "class LinearRegression(tf.keras.Model):\n",
        "  def __init__(self, num_inputs, num_outputs):\n",
        "    super(LinearRegression, self).__init__()\n",
        "    self.W = tf.Variable(\n",
        "        tf.random_normal_initializer()((num_inputs, num_outputs)))\n",
        "    self.b = tf.Variable(tf.zeros(num_outputs))\n",
        "    self.params = [self.W, self.b]\n",
        "\n",
        "  def call(self, inputs):\n",
        "    return tf.matmul(inputs, self.W) + self.b"
      ],
      "execution_count": null,
      "outputs": []
    },
    {
      "cell_type": "code",
      "metadata": {
        "id": "2bu7AKLEkO13",
        "colab_type": "code",
        "colab": {}
      },
      "source": [
        "# Create a dataset\n",
        "N = 100\n",
        "D = 1\n",
        "K = 1\n",
        "X = np.random.random((N, D)) * 2 - 1\n",
        "w = np.random.randn(D, K)\n",
        "b = np.random.randn()\n",
        "Y = X.dot(w) + b + np.random.randn(N, 1) * 0.1"
      ],
      "execution_count": null,
      "outputs": []
    },
    {
      "cell_type": "code",
      "metadata": {
        "id": "kMnTFfrOtq1G",
        "colab_type": "code",
        "colab": {
          "base_uri": "https://localhost:8080/",
          "height": 286
        },
        "outputId": "14df991b-1bd1-4310-88c2-cf52c2e37193"
      },
      "source": [
        "plt.scatter(X, Y)"
      ],
      "execution_count": null,
      "outputs": [
        {
          "output_type": "execute_result",
          "data": {
            "text/plain": [
              "<matplotlib.collections.PathCollection at 0x7fc430437e48>"
            ]
          },
          "metadata": {
            "tags": []
          },
          "execution_count": 5
        },
        {
          "output_type": "display_data",
          "data": {
            "image/png": "[encoded data removed]",
            "text/plain": [
              "<Figure size 432x288 with 1 Axes>"
            ]
          },
          "metadata": {
            "tags": []
          }
        }
      ]
    },
    {
      "cell_type": "code",
      "metadata": {
        "id": "B_LRhAvRsWcR",
        "colab_type": "code",
        "colab": {}
      },
      "source": [
        "# Cast type, otherwise Tensorflow will complain\n",
        "\n",
        "X = X.astype(np.float32)\n",
        "Y = Y.astype(np.float32)"
      ],
      "execution_count": null,
      "outputs": []
    },
    {
      "cell_type": "code",
      "metadata": {
        "id": "3BIdu0lJk7mM",
        "colab_type": "code",
        "colab": {}
      },
      "source": [
        "# Define the loss\n",
        "\n",
        "def get_loss(model, inputs, targets):\n",
        "  predictions = model(inputs)\n",
        "  error = targets - predictions\n",
        "  return tf.reduce_mean(tf.square(error))"
      ],
      "execution_count": null,
      "outputs": []
    },
    {
      "cell_type": "code",
      "metadata": {
        "id": "2nkLv-njlRYm",
        "colab_type": "code",
        "colab": {}
      },
      "source": [
        "# Gradient function\n",
        "def get_grad(model, inputs, targets):\n",
        "  with tf.GradientTape() as tape:\n",
        "    # calculate the loss\n",
        "    loss_value = get_loss(model, inputs, targets)\n",
        "  \n",
        "  # return gradient\n",
        "  return tape.gradient(loss_value, model.params)\n",
        "  "
      ],
      "execution_count": null,
      "outputs": []
    },
    {
      "cell_type": "code",
      "metadata": {
        "id": "_hszHmmauaCO",
        "colab_type": "code",
        "colab": {
          "base_uri": "https://localhost:8080/",
          "height": 68
        },
        "outputId": "a42b7714-b0aa-4ada-f817-04ff90ffc8d3"
      },
      "source": [
        "# Create and train the model\n",
        "model = LinearRegression(D, K)\n",
        "\n",
        "# Print the params before training\n",
        "print(\"Initial params:\")\n",
        "print(model.W)\n",
        "print(model.b)"
      ],
      "execution_count": null,
      "outputs": [
        {
          "output_type": "stream",
          "text": [
            "Initial params:\n",
            "<tf.Variable 'Variable:0' shape=(1, 1) dtype=float32, numpy=array([[-0.07139343]], dtype=float32)>\n",
            "<tf.Variable 'Variable:0' shape=(1,) dtype=float32, numpy=array([0.], dtype=float32)>\n"
          ],
          "name": "stdout"
        }
      ]
    },
    {
      "cell_type": "code",
      "metadata": {
        "id": "hVqFi4gIl8Qj",
        "colab_type": "code",
        "colab": {}
      },
      "source": [
        "# Store the losses here\n",
        "losses = []\n",
        "\n",
        "# Create an optimizer\n",
        "optimizer = tf.keras.optimizers.SGD(learning_rate=0.2)\n",
        "\n",
        "# Run the training loop\n",
        "for i in range(100):\n",
        "  # Get gradients\n",
        "  grads = get_grad(model, X, Y)\n",
        "  \n",
        "  # Do one step of gradient descent: param <- param - learning_rate * grad\n",
        "  optimizer.apply_gradients(zip(grads, model.params))\n",
        "  \n",
        "  # Store the loss\n",
        "  loss = get_loss(model, X, Y)\n",
        "  losses.append(loss)"
      ],
      "execution_count": null,
      "outputs": []
    },
    {
      "cell_type": "code",
      "metadata": {
        "id": "Q8qQPAhlnRTq",
        "colab_type": "code",
        "colab": {
          "base_uri": "https://localhost:8080/",
          "height": 286
        },
        "outputId": "24855d61-3dd7-46a4-e242-3d2b99b8815c"
      },
      "source": [
        "plt.plot(losses)"
      ],
      "execution_count": null,
      "outputs": [
        {
          "output_type": "execute_result",
          "data": {
            "text/plain": [
              "[<matplotlib.lines.Line2D at 0x7fc428b362b0>]"
            ]
          },
          "metadata": {
            "tags": []
          },
          "execution_count": 11
        },
        {
          "output_type": "display_data",
          "data": {
            "image/png": "[encoded data removed]",
            "text/plain": [
              "<Figure size 432x288 with 1 Axes>"
            ]
          },
          "metadata": {
            "tags": []
          }
        }
      ]
    },
    {
      "cell_type": "code",
      "metadata": {
        "id": "tL97eSaws83l",
        "colab_type": "code",
        "colab": {
          "base_uri": "https://localhost:8080/",
          "height": 286
        },
        "outputId": "61f93b57-95ab-4eee-8620-8f54f55e432a"
      },
      "source": [
        "x_axis = np.linspace(X.min(), X.max(), 100)\n",
        "y_axis = model.predict(x_axis.reshape(-1, 1)).flatten()\n",
        "\n",
        "plt.scatter(X, Y)\n",
        "plt.plot(x_axis, y_axis)\n",
        "\n"
      ],
      "execution_count": null,
      "outputs": [
        {
          "output_type": "execute_result",
          "data": {
            "text/plain": [
              "[<matplotlib.lines.Line2D at 0x7fc428b1f2e8>]"
            ]
          },
          "metadata": {
            "tags": []
          },
          "execution_count": 12
        },
        {
          "output_type": "display_data",
          "data": {
            "image/png": "[encoded data removed]",
            "text/plain": [
              "<Figure size 432x288 with 1 Axes>"
            ]
          },
          "metadata": {
            "tags": []
          }
        }
      ]
    },
    {
      "cell_type": "code",
      "metadata": {
        "id": "Oe2amevDtcpM",
        "colab_type": "code",
        "colab": {
          "base_uri": "https://localhost:8080/",
          "height": 68
        },
        "outputId": "e692fa06-e5ba-4a9e-ae66-e82cebdcc13e"
      },
      "source": [
        "print(\"Predicted params:\")\n",
        "print(model.W)\n",
        "print(model.b)"
      ],
      "execution_count": null,
      "outputs": [
        {
          "output_type": "stream",
          "text": [
            "Predicted params:\n",
            "<tf.Variable 'Variable:0' shape=(1, 1) dtype=float32, numpy=array([[1.0059998]], dtype=float32)>\n",
            "<tf.Variable 'Variable:0' shape=(1,) dtype=float32, numpy=array([-0.3224416], dtype=float32)>\n"
          ],
          "name": "stdout"
        }
      ]
    },
    {
      "cell_type": "code",
      "metadata": {
        "id": "vOD5cZ4ruUCD",
        "colab_type": "code",
        "colab": {
          "base_uri": "https://localhost:8080/",
          "height": 51
        },
        "outputId": "daf099d5-2596-4d54-fd11-f9e4be3a4404"
      },
      "source": [
        "print(\"True params:\")\n",
        "w, b"
      ],
      "execution_count": null,
      "outputs": [
        {
          "output_type": "stream",
          "text": [
            "True params:\n"
          ],
          "name": "stdout"
        },
        {
          "output_type": "execute_result",
          "data": {
            "text/plain": [
              "(array([[1.01350001]]), -0.3286531216778375)"
            ]
          },
          "metadata": {
            "tags": []
          },
          "execution_count": 14
        }
      ]
    }
  ]
}