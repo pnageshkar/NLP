{
  "nbformat": 4,
  "nbformat_minor": 0,
  "metadata": {
    "colab": {
      "name": "TF2.0 CIFAR Improved.ipynb",
      "provenance": [],
      "collapsed_sections": []
    },
    "kernelspec": {
      "name": "python3",
      "display_name": "Python 3"
    },
    "accelerator": "GPU"
  },
  "cells": [
    {
      "cell_type": "code",
      "metadata": {
        "id": "pmNpq8GML1jW",
        "colab_type": "code",
        "outputId": "79813388-6eff-4cdf-fc73-0ccfd5745437",
        "colab": {
          "base_uri": "https://localhost:8080/",
          "height": 34
        }
      },
      "source": [
        "# Install TensorFlow\n",
        "# !pip install -q tensorflow-gpu==2.0.0-beta1\n",
        "\n",
        "try:\n",
        "  %tensorflow_version 2.x  # Colab only.\n",
        "except Exception:\n",
        "  pass\n",
        "\n",
        "import tensorflow as tf\n",
        "print(tf.__version__)"
      ],
      "execution_count": 0,
      "outputs": [
        {
          "output_type": "stream",
          "text": [
            "2.0.0-beta1\n"
          ],
          "name": "stdout"
        }
      ]
    },
    {
      "cell_type": "code",
      "metadata": {
        "id": "cBJh6ib6MEIW",
        "colab_type": "code",
        "colab": {}
      },
      "source": [
        "# additional imports\n",
        "\n",
        "import numpy as np\n",
        "import matplotlib.pyplot as plt\n",
        "from tensorflow.keras.layers import Input, Conv2D, Dense, Flatten, Dropout, GlobalMaxPooling2D, MaxPooling2D, BatchNormalization\n",
        "from tensorflow.keras.models import Model"
      ],
      "execution_count": 0,
      "outputs": []
    },
    {
      "cell_type": "code",
      "metadata": {
        "id": "H_EGZv1TL4S_",
        "colab_type": "code",
        "outputId": "9c7bf86f-fc03-4fcb-f572-f260ffdcd92d",
        "colab": {
          "base_uri": "https://localhost:8080/",
          "height": 51
        }
      },
      "source": [
        "# Load in the data\n",
        "cifar10 = tf.keras.datasets.cifar10\n",
        "\n",
        "(x_train, y_train), (x_test, y_test) = cifar10.load_data()\n",
        "x_train, x_test = x_train / 255.0, x_test / 255.0\n",
        "y_train, y_test = y_train.flatten(), y_test.flatten()\n",
        "print(\"x_train.shape:\", x_train.shape)\n",
        "print(\"y_train.shape\", y_train.shape)"
      ],
      "execution_count": 0,
      "outputs": [
        {
          "output_type": "stream",
          "text": [
            "x_train.shape: (50000, 32, 32, 3)\n",
            "y_train.shape (50000,)\n"
          ],
          "name": "stdout"
        }
      ]
    },
    {
      "cell_type": "code",
      "metadata": {
        "id": "1Wr15bYpMwbB",
        "colab_type": "code",
        "outputId": "99267b97-ffb1-4aa2-fd4c-ebefa0b7f70f",
        "colab": {
          "base_uri": "https://localhost:8080/",
          "height": 34
        }
      },
      "source": [
        "# number of classes\n",
        "K = len(set(y_train))\n",
        "print(\"number of classes:\", K)"
      ],
      "execution_count": 0,
      "outputs": [
        {
          "output_type": "stream",
          "text": [
            "number of classes: 10\n"
          ],
          "name": "stdout"
        }
      ]
    },
    {
      "cell_type": "code",
      "metadata": {
        "id": "Mmo66uQoMA1Q",
        "colab_type": "code",
        "colab": {}
      },
      "source": [
        "# Build the model using the functional API\n",
        "i = Input(shape=x_train[0].shape)\n",
        "# x = Conv2D(32, (3, 3), strides=2, activation='relu')(i)\n",
        "# x = Conv2D(64, (3, 3), strides=2, activation='relu')(x)\n",
        "# x = Conv2D(128, (3, 3), strides=2, activation='relu')(x)\n",
        "\n",
        "x = Conv2D(32, (3, 3), activation='relu', padding='same')(i)\n",
        "x = BatchNormalization()(x)\n",
        "x = Conv2D(32, (3, 3), activation='relu', padding='same')(x)\n",
        "x = BatchNormalization()(x)\n",
        "x = MaxPooling2D((2, 2))(x)\n",
        "# x = Dropout(0.2)(x)\n",
        "x = Conv2D(64, (3, 3), activation='relu', padding='same')(x)\n",
        "x = BatchNormalization()(x)\n",
        "x = Conv2D(64, (3, 3), activation='relu', padding='same')(x)\n",
        "x = BatchNormalization()(x)\n",
        "x = MaxPooling2D((2, 2))(x)\n",
        "# x = Dropout(0.2)(x)\n",
        "x = Conv2D(128, (3, 3), activation='relu', padding='same')(x)\n",
        "x = BatchNormalization()(x)\n",
        "x = Conv2D(128, (3, 3), activation='relu', padding='same')(x)\n",
        "x = BatchNormalization()(x)\n",
        "x = MaxPooling2D((2, 2))(x)\n",
        "# x = Dropout(0.2)(x)\n",
        "\n",
        "# x = GlobalMaxPooling2D()(x)\n",
        "x = Flatten()(x)\n",
        "x = Dropout(0.2)(x)\n",
        "x = Dense(1024, activation='relu')(x)\n",
        "x = Dropout(0.2)(x)\n",
        "x = Dense(K, activation='softmax')(x)\n",
        "\n",
        "model = Model(i, x)"
      ],
      "execution_count": 0,
      "outputs": []
    },
    {
      "cell_type": "code",
      "metadata": {
        "id": "0zF9n0P7NcP-",
        "colab_type": "code",
        "colab": {}
      },
      "source": [
        "# Compile\n",
        "# Note: make sure you are using the GPU for this!\n",
        "model.compile(optimizer='adam',\n",
        "              loss='sparse_categorical_crossentropy',\n",
        "              metrics=['accuracy'])"
      ],
      "execution_count": 0,
      "outputs": []
    },
    {
      "cell_type": "code",
      "metadata": {
        "id": "BBzAGEjOkvFz",
        "colab_type": "code",
        "outputId": "c0a63168-af72-4665-c252-2368b1288b19",
        "colab": {
          "base_uri": "https://localhost:8080/",
          "height": 1000
        }
      },
      "source": [
        "# Fit\n",
        "r = model.fit(x_train, y_train, validation_data=(x_test, y_test), epochs=50)"
      ],
      "execution_count": 0,
      "outputs": [
        {
          "output_type": "stream",
          "text": [
            "Train on 50000 samples, validate on 10000 samples\n",
            "Epoch 1/50\n",
            "50000/50000 [==============================] - 25s 505us/sample - loss: 1.2846 - accuracy: 0.5560 - val_loss: 1.3682 - val_accuracy: 0.5247\n",
            "Epoch 2/50\n",
            "50000/50000 [==============================] - 24s 478us/sample - loss: 0.8440 - accuracy: 0.7078 - val_loss: 0.7948 - val_accuracy: 0.7245\n",
            "Epoch 3/50\n",
            "50000/50000 [==============================] - 24s 478us/sample - loss: 0.6939 - accuracy: 0.7613 - val_loss: 0.8090 - val_accuracy: 0.7326\n",
            "Epoch 4/50\n",
            "50000/50000 [==============================] - 24s 471us/sample - loss: 0.5960 - accuracy: 0.7957 - val_loss: 0.7991 - val_accuracy: 0.7369\n",
            "Epoch 5/50\n",
            "50000/50000 [==============================] - 24s 470us/sample - loss: 0.5020 - accuracy: 0.8272 - val_loss: 0.6638 - val_accuracy: 0.7833\n",
            "Epoch 6/50\n",
            "50000/50000 [==============================] - 24s 472us/sample - loss: 0.4217 - accuracy: 0.8536 - val_loss: 0.6181 - val_accuracy: 0.8042\n",
            "Epoch 7/50\n",
            "50000/50000 [==============================] - 23s 469us/sample - loss: 0.3590 - accuracy: 0.8759 - val_loss: 0.6287 - val_accuracy: 0.8033\n",
            "Epoch 8/50\n",
            "50000/50000 [==============================] - 23s 470us/sample - loss: 0.3020 - accuracy: 0.8952 - val_loss: 0.6444 - val_accuracy: 0.8020\n",
            "Epoch 9/50\n",
            "50000/50000 [==============================] - 24s 470us/sample - loss: 0.2560 - accuracy: 0.9111 - val_loss: 0.7963 - val_accuracy: 0.7855\n",
            "Epoch 10/50\n",
            "50000/50000 [==============================] - 24s 473us/sample - loss: 0.2218 - accuracy: 0.9231 - val_loss: 0.6505 - val_accuracy: 0.8131\n",
            "Epoch 11/50\n",
            "50000/50000 [==============================] - 24s 472us/sample - loss: 0.1990 - accuracy: 0.9315 - val_loss: 0.7137 - val_accuracy: 0.8111\n",
            "Epoch 12/50\n",
            "50000/50000 [==============================] - 23s 468us/sample - loss: 0.1722 - accuracy: 0.9424 - val_loss: 0.6839 - val_accuracy: 0.8150\n",
            "Epoch 13/50\n",
            "50000/50000 [==============================] - 24s 473us/sample - loss: 0.1618 - accuracy: 0.9455 - val_loss: 0.8331 - val_accuracy: 0.8085\n",
            "Epoch 14/50\n",
            "50000/50000 [==============================] - 23s 469us/sample - loss: 0.1447 - accuracy: 0.9510 - val_loss: 0.7035 - val_accuracy: 0.8236\n",
            "Epoch 15/50\n",
            "50000/50000 [==============================] - 24s 474us/sample - loss: 0.1340 - accuracy: 0.9552 - val_loss: 0.7503 - val_accuracy: 0.8192\n",
            "Epoch 16/50\n",
            "50000/50000 [==============================] - 24s 480us/sample - loss: 0.1207 - accuracy: 0.9596 - val_loss: 0.7268 - val_accuracy: 0.8182\n",
            "Epoch 17/50\n",
            "50000/50000 [==============================] - 24s 473us/sample - loss: 0.1190 - accuracy: 0.9601 - val_loss: 0.7720 - val_accuracy: 0.8223\n",
            "Epoch 18/50\n",
            "50000/50000 [==============================] - 24s 473us/sample - loss: 0.1098 - accuracy: 0.9644 - val_loss: 0.7373 - val_accuracy: 0.8207\n",
            "Epoch 19/50\n",
            "50000/50000 [==============================] - 23s 470us/sample - loss: 0.1004 - accuracy: 0.9663 - val_loss: 0.7868 - val_accuracy: 0.8283\n",
            "Epoch 20/50\n",
            "50000/50000 [==============================] - 24s 472us/sample - loss: 0.0996 - accuracy: 0.9672 - val_loss: 0.7113 - val_accuracy: 0.8289\n",
            "Epoch 21/50\n",
            "50000/50000 [==============================] - 23s 461us/sample - loss: 0.0926 - accuracy: 0.9699 - val_loss: 0.7895 - val_accuracy: 0.8230\n",
            "Epoch 22/50\n",
            "50000/50000 [==============================] - 23s 461us/sample - loss: 0.0872 - accuracy: 0.9715 - val_loss: 0.7820 - val_accuracy: 0.8280\n",
            "Epoch 23/50\n",
            "50000/50000 [==============================] - 23s 463us/sample - loss: 0.0848 - accuracy: 0.9723 - val_loss: 0.7153 - val_accuracy: 0.8340\n",
            "Epoch 24/50\n",
            "50000/50000 [==============================] - 23s 463us/sample - loss: 0.0807 - accuracy: 0.9733 - val_loss: 0.8351 - val_accuracy: 0.8268\n",
            "Epoch 25/50\n",
            "50000/50000 [==============================] - 23s 461us/sample - loss: 0.0777 - accuracy: 0.9750 - val_loss: 0.8891 - val_accuracy: 0.8155\n",
            "Epoch 26/50\n",
            "50000/50000 [==============================] - 23s 461us/sample - loss: 0.0736 - accuracy: 0.9754 - val_loss: 0.8202 - val_accuracy: 0.8288\n",
            "Epoch 27/50\n",
            "50000/50000 [==============================] - 23s 465us/sample - loss: 0.0683 - accuracy: 0.9772 - val_loss: 0.8225 - val_accuracy: 0.8339\n",
            "Epoch 28/50\n",
            "50000/50000 [==============================] - 23s 464us/sample - loss: 0.0659 - accuracy: 0.9784 - val_loss: 0.7830 - val_accuracy: 0.8345\n",
            "Epoch 29/50\n",
            "50000/50000 [==============================] - 24s 470us/sample - loss: 0.0660 - accuracy: 0.9782 - val_loss: 0.8482 - val_accuracy: 0.8292\n",
            "Epoch 30/50\n",
            "50000/50000 [==============================] - 23s 465us/sample - loss: 0.0651 - accuracy: 0.9785 - val_loss: 0.8701 - val_accuracy: 0.8312\n",
            "Epoch 31/50\n",
            "50000/50000 [==============================] - 23s 462us/sample - loss: 0.0616 - accuracy: 0.9798 - val_loss: 0.8357 - val_accuracy: 0.8352\n",
            "Epoch 32/50\n",
            "50000/50000 [==============================] - 23s 468us/sample - loss: 0.0597 - accuracy: 0.9802 - val_loss: 0.8176 - val_accuracy: 0.8324\n",
            "Epoch 33/50\n",
            "50000/50000 [==============================] - 23s 470us/sample - loss: 0.0591 - accuracy: 0.9814 - val_loss: 0.8558 - val_accuracy: 0.8385\n",
            "Epoch 34/50\n",
            "50000/50000 [==============================] - 24s 475us/sample - loss: 0.0589 - accuracy: 0.9811 - val_loss: 0.8084 - val_accuracy: 0.8335\n",
            "Epoch 35/50\n",
            "50000/50000 [==============================] - 24s 473us/sample - loss: 0.0544 - accuracy: 0.9821 - val_loss: 1.0018 - val_accuracy: 0.8199\n",
            "Epoch 36/50\n",
            "50000/50000 [==============================] - 24s 472us/sample - loss: 0.0511 - accuracy: 0.9831 - val_loss: 0.8328 - val_accuracy: 0.8294\n",
            "Epoch 37/50\n",
            "50000/50000 [==============================] - 24s 472us/sample - loss: 0.0552 - accuracy: 0.9824 - val_loss: 0.8117 - val_accuracy: 0.8389\n",
            "Epoch 38/50\n",
            "50000/50000 [==============================] - 23s 466us/sample - loss: 0.0525 - accuracy: 0.9830 - val_loss: 0.9104 - val_accuracy: 0.8191\n",
            "Epoch 39/50\n",
            "50000/50000 [==============================] - 23s 469us/sample - loss: 0.0478 - accuracy: 0.9845 - val_loss: 0.9050 - val_accuracy: 0.8197\n",
            "Epoch 40/50\n",
            "50000/50000 [==============================] - 23s 467us/sample - loss: 0.0543 - accuracy: 0.9824 - val_loss: 0.8618 - val_accuracy: 0.8308\n",
            "Epoch 41/50\n",
            "50000/50000 [==============================] - 24s 474us/sample - loss: 0.0485 - accuracy: 0.9845 - val_loss: 0.8725 - val_accuracy: 0.8375\n",
            "Epoch 42/50\n",
            "50000/50000 [==============================] - 24s 476us/sample - loss: 0.0445 - accuracy: 0.9856 - val_loss: 0.9005 - val_accuracy: 0.8360\n",
            "Epoch 43/50\n",
            "50000/50000 [==============================] - 23s 464us/sample - loss: 0.0474 - accuracy: 0.9849 - val_loss: 0.8739 - val_accuracy: 0.8380\n",
            "Epoch 44/50\n",
            "50000/50000 [==============================] - 23s 463us/sample - loss: 0.0445 - accuracy: 0.9861 - val_loss: 0.8100 - val_accuracy: 0.8360\n",
            "Epoch 45/50\n",
            "50000/50000 [==============================] - 23s 458us/sample - loss: 0.0468 - accuracy: 0.9852 - val_loss: 0.8514 - val_accuracy: 0.8281\n",
            "Epoch 46/50\n",
            "50000/50000 [==============================] - 23s 460us/sample - loss: 0.0438 - accuracy: 0.9859 - val_loss: 0.8558 - val_accuracy: 0.8397\n",
            "Epoch 47/50\n",
            "50000/50000 [==============================] - 23s 459us/sample - loss: 0.0480 - accuracy: 0.9852 - val_loss: 0.8922 - val_accuracy: 0.8398\n",
            "Epoch 48/50\n",
            "50000/50000 [==============================] - 23s 459us/sample - loss: 0.0389 - accuracy: 0.9869 - val_loss: 0.9589 - val_accuracy: 0.8344\n",
            "Epoch 49/50\n",
            "50000/50000 [==============================] - 23s 459us/sample - loss: 0.0411 - accuracy: 0.9870 - val_loss: 0.8765 - val_accuracy: 0.8249\n",
            "Epoch 50/50\n",
            "50000/50000 [==============================] - 23s 457us/sample - loss: 0.0462 - accuracy: 0.9855 - val_loss: 0.8899 - val_accuracy: 0.8406\n"
          ],
          "name": "stdout"
        }
      ]
    },
    {
      "cell_type": "code",
      "metadata": {
        "id": "af61hXUrYjsZ",
        "colab_type": "code",
        "outputId": "c7b2549a-ff26-458f-f371-38864030794a",
        "colab": {
          "base_uri": "https://localhost:8080/",
          "height": 1000
        }
      },
      "source": [
        "# Fit with data augmentation\n",
        "# Note: if you run this AFTER calling the previous model.fit(), it will CONTINUE training where it left off\n",
        "batch_size = 32\n",
        "data_generator = tf.keras.preprocessing.image.ImageDataGenerator(width_shift_range=0.1, height_shift_range=0.1, horizontal_flip=True)\n",
        "train_generator = data_generator.flow(x_train, y_train, batch_size)\n",
        "steps_per_epoch = x_train.shape[0] // batch_size\n",
        "r = model.fit_generator(train_generator, validation_data=(x_test, y_test), steps_per_epoch=steps_per_epoch, epochs=50)"
      ],
      "execution_count": 0,
      "outputs": [
        {
          "output_type": "stream",
          "text": [
            "Epoch 1/50\n",
            "1562/1562 [==============================] - 41s 27ms/step - loss: 0.5540 - accuracy: 0.8219 - val_loss: 0.5239 - val_accuracy: 0.8261\n",
            "Epoch 2/50\n",
            "1562/1562 [==============================] - 41s 26ms/step - loss: 0.4396 - accuracy: 0.8568 - val_loss: 0.5174 - val_accuracy: 0.8366\n",
            "Epoch 3/50\n",
            "1562/1562 [==============================] - 42s 27ms/step - loss: 0.4109 - accuracy: 0.8628 - val_loss: 0.4509 - val_accuracy: 0.8526\n",
            "Epoch 4/50\n",
            "1562/1562 [==============================] - 41s 26ms/step - loss: 0.3877 - accuracy: 0.8711 - val_loss: 0.4455 - val_accuracy: 0.8525\n",
            "Epoch 5/50\n",
            "1562/1562 [==============================] - 41s 26ms/step - loss: 0.3679 - accuracy: 0.8758 - val_loss: 0.4635 - val_accuracy: 0.8529\n",
            "Epoch 6/50\n",
            "1562/1562 [==============================] - 41s 26ms/step - loss: 0.3503 - accuracy: 0.8816 - val_loss: 0.4604 - val_accuracy: 0.8535\n",
            "Epoch 7/50\n",
            "1562/1562 [==============================] - 41s 26ms/step - loss: 0.3438 - accuracy: 0.8851 - val_loss: 0.4861 - val_accuracy: 0.8508\n",
            "Epoch 8/50\n",
            "1562/1562 [==============================] - 41s 26ms/step - loss: 0.3304 - accuracy: 0.8901 - val_loss: 0.5206 - val_accuracy: 0.8397\n",
            "Epoch 9/50\n",
            "1562/1562 [==============================] - 41s 26ms/step - loss: 0.3189 - accuracy: 0.8921 - val_loss: 0.4513 - val_accuracy: 0.8624\n",
            "Epoch 10/50\n",
            "1562/1562 [==============================] - 41s 27ms/step - loss: 0.3069 - accuracy: 0.8966 - val_loss: 0.4282 - val_accuracy: 0.8707\n",
            "Epoch 11/50\n",
            "1562/1562 [==============================] - 42s 27ms/step - loss: 0.3035 - accuracy: 0.8972 - val_loss: 0.4865 - val_accuracy: 0.8529\n",
            "Epoch 12/50\n",
            "1562/1562 [==============================] - 41s 26ms/step - loss: 0.2937 - accuracy: 0.9015 - val_loss: 0.4581 - val_accuracy: 0.8566\n",
            "Epoch 13/50\n",
            "1562/1562 [==============================] - 41s 26ms/step - loss: 0.2879 - accuracy: 0.9022 - val_loss: 0.4394 - val_accuracy: 0.8635\n",
            "Epoch 14/50\n",
            "1562/1562 [==============================] - 41s 26ms/step - loss: 0.2814 - accuracy: 0.9057 - val_loss: 0.4360 - val_accuracy: 0.8569\n",
            "Epoch 15/50\n",
            "1562/1562 [==============================] - 41s 26ms/step - loss: 0.2746 - accuracy: 0.9072 - val_loss: 0.4351 - val_accuracy: 0.8598\n",
            "Epoch 16/50\n",
            "1562/1562 [==============================] - 41s 26ms/step - loss: 0.2639 - accuracy: 0.9109 - val_loss: 0.4246 - val_accuracy: 0.8707\n",
            "Epoch 17/50\n",
            "1562/1562 [==============================] - 41s 26ms/step - loss: 0.2619 - accuracy: 0.9105 - val_loss: 0.4105 - val_accuracy: 0.8677\n",
            "Epoch 18/50\n",
            "1562/1562 [==============================] - 41s 26ms/step - loss: 0.2577 - accuracy: 0.9117 - val_loss: 0.4144 - val_accuracy: 0.8722\n",
            "Epoch 19/50\n",
            "1562/1562 [==============================] - 41s 26ms/step - loss: 0.2485 - accuracy: 0.9159 - val_loss: 0.4351 - val_accuracy: 0.8641\n",
            "Epoch 20/50\n",
            "1562/1562 [==============================] - 41s 26ms/step - loss: 0.2464 - accuracy: 0.9163 - val_loss: 0.4253 - val_accuracy: 0.8649\n",
            "Epoch 21/50\n",
            "1562/1562 [==============================] - 41s 26ms/step - loss: 0.2383 - accuracy: 0.9192 - val_loss: 0.4307 - val_accuracy: 0.8706\n",
            "Epoch 22/50\n",
            "1562/1562 [==============================] - 41s 26ms/step - loss: 0.2284 - accuracy: 0.9224 - val_loss: 0.4172 - val_accuracy: 0.8766\n",
            "Epoch 23/50\n",
            "1562/1562 [==============================] - 41s 26ms/step - loss: 0.2320 - accuracy: 0.9212 - val_loss: 0.3935 - val_accuracy: 0.8753\n",
            "Epoch 24/50\n",
            "1562/1562 [==============================] - 41s 26ms/step - loss: 0.2272 - accuracy: 0.9216 - val_loss: 0.4727 - val_accuracy: 0.8690\n",
            "Epoch 25/50\n",
            "1562/1562 [==============================] - 41s 26ms/step - loss: 0.2238 - accuracy: 0.9245 - val_loss: 0.4224 - val_accuracy: 0.8681\n",
            "Epoch 26/50\n",
            "1562/1562 [==============================] - 41s 26ms/step - loss: 0.2215 - accuracy: 0.9232 - val_loss: 0.4387 - val_accuracy: 0.8662\n",
            "Epoch 27/50\n",
            "1562/1562 [==============================] - 40s 26ms/step - loss: 0.2176 - accuracy: 0.9267 - val_loss: 0.4349 - val_accuracy: 0.8726\n",
            "Epoch 28/50\n",
            "1562/1562 [==============================] - 40s 26ms/step - loss: 0.2152 - accuracy: 0.9269 - val_loss: 0.4130 - val_accuracy: 0.8724\n",
            "Epoch 29/50\n",
            "1562/1562 [==============================] - 41s 26ms/step - loss: 0.2108 - accuracy: 0.9289 - val_loss: 0.4000 - val_accuracy: 0.8809\n",
            "Epoch 30/50\n",
            "1562/1562 [==============================] - 41s 26ms/step - loss: 0.2057 - accuracy: 0.9311 - val_loss: 0.4243 - val_accuracy: 0.8805\n",
            "Epoch 31/50\n",
            "1562/1562 [==============================] - 41s 26ms/step - loss: 0.2026 - accuracy: 0.9312 - val_loss: 0.4270 - val_accuracy: 0.8722\n",
            "Epoch 32/50\n",
            "1562/1562 [==============================] - 41s 26ms/step - loss: 0.2042 - accuracy: 0.9301 - val_loss: 0.3845 - val_accuracy: 0.8824\n",
            "Epoch 33/50\n",
            "1562/1562 [==============================] - 40s 26ms/step - loss: 0.2022 - accuracy: 0.9321 - val_loss: 0.3976 - val_accuracy: 0.8815\n",
            "Epoch 34/50\n",
            "1562/1562 [==============================] - 41s 26ms/step - loss: 0.1975 - accuracy: 0.9328 - val_loss: 0.4038 - val_accuracy: 0.8796\n",
            "Epoch 35/50\n",
            "1562/1562 [==============================] - 40s 26ms/step - loss: 0.1920 - accuracy: 0.9354 - val_loss: 0.4235 - val_accuracy: 0.8730\n",
            "Epoch 36/50\n",
            "1562/1562 [==============================] - 40s 26ms/step - loss: 0.1952 - accuracy: 0.9330 - val_loss: 0.4162 - val_accuracy: 0.8741\n",
            "Epoch 37/50\n",
            "1562/1562 [==============================] - 40s 25ms/step - loss: 0.1911 - accuracy: 0.9357 - val_loss: 0.4019 - val_accuracy: 0.8782\n",
            "Epoch 38/50\n",
            "1562/1562 [==============================] - 40s 26ms/step - loss: 0.1944 - accuracy: 0.9343 - val_loss: 0.4602 - val_accuracy: 0.8696\n",
            "Epoch 39/50\n",
            "1562/1562 [==============================] - 40s 26ms/step - loss: 0.1839 - accuracy: 0.9381 - val_loss: 0.4571 - val_accuracy: 0.8712\n",
            "Epoch 40/50\n",
            "1562/1562 [==============================] - 40s 26ms/step - loss: 0.1788 - accuracy: 0.9395 - val_loss: 0.4483 - val_accuracy: 0.8712\n",
            "Epoch 41/50\n",
            "1562/1562 [==============================] - 40s 26ms/step - loss: 0.1853 - accuracy: 0.9366 - val_loss: 0.4485 - val_accuracy: 0.8687\n",
            "Epoch 42/50\n",
            "1562/1562 [==============================] - 40s 26ms/step - loss: 0.1772 - accuracy: 0.9398 - val_loss: 0.4011 - val_accuracy: 0.8822\n",
            "Epoch 43/50\n",
            "1562/1562 [==============================] - 40s 26ms/step - loss: 0.1772 - accuracy: 0.9400 - val_loss: 0.4292 - val_accuracy: 0.8754\n",
            "Epoch 44/50\n",
            "1562/1562 [==============================] - 40s 26ms/step - loss: 0.1718 - accuracy: 0.9411 - val_loss: 0.4150 - val_accuracy: 0.8837\n",
            "Epoch 45/50\n",
            "1562/1562 [==============================] - 40s 26ms/step - loss: 0.1736 - accuracy: 0.9421 - val_loss: 0.4121 - val_accuracy: 0.8763\n",
            "Epoch 46/50\n",
            "1562/1562 [==============================] - 41s 26ms/step - loss: 0.1726 - accuracy: 0.9414 - val_loss: 0.4210 - val_accuracy: 0.8807\n",
            "Epoch 47/50\n",
            "1562/1562 [==============================] - 41s 26ms/step - loss: 0.1685 - accuracy: 0.9432 - val_loss: 0.4288 - val_accuracy: 0.8769\n",
            "Epoch 48/50\n",
            "1562/1562 [==============================] - 41s 26ms/step - loss: 0.1698 - accuracy: 0.9427 - val_loss: 0.4489 - val_accuracy: 0.8817\n",
            "Epoch 49/50\n",
            "1562/1562 [==============================] - 41s 26ms/step - loss: 0.1651 - accuracy: 0.9449 - val_loss: 0.4387 - val_accuracy: 0.8728\n",
            "Epoch 50/50\n",
            "1562/1562 [==============================] - 41s 26ms/step - loss: 0.1706 - accuracy: 0.9422 - val_loss: 0.4485 - val_accuracy: 0.8789\n"
          ],
          "name": "stdout"
        }
      ]
    },
    {
      "cell_type": "code",
      "metadata": {
        "id": "ML37hw4iOkBm",
        "colab_type": "code",
        "outputId": "070ae615-4326-4fbe-9a56-6c77c86ec606",
        "colab": {
          "base_uri": "https://localhost:8080/"
        }
      },
      "source": [
        "# Plot loss per iteration\n",
        "import matplotlib.pyplot as plt\n",
        "plt.plot(r.history['loss'], label='loss')\n",
        "plt.plot(r.history['val_loss'], label='val_loss')\n",
        "plt.legend()"
      ],
      "execution_count": 0,
      "outputs": [
        {
          "output_type": "execute_result",
          "data": {
            "text/plain": [
              "<matplotlib.legend.Legend at 0x7fed1efc4780>"
            ]
          },
          "metadata": {
            "tags": []
          },
          "execution_count": 16
        },
        {
          "output_type": "display_data",
          "data": {
            "image/png": "[encoded data removed]",
            "text/plain": [
              "<Figure size 432x288 with 1 Axes>"
            ]
          },
          "metadata": {
            "tags": []
          }
        }
      ]
    },
    {
      "cell_type": "code",
      "metadata": {
        "id": "pemstSDIOpIb",
        "colab_type": "code",
        "outputId": "cec1b3a3-2827-4c36-b5c8-16de5ac50c5f",
        "colab": {
          "base_uri": "https://localhost:8080/"
        }
      },
      "source": [
        "# Plot accuracy per iteration\n",
        "plt.plot(r.history['accuracy'], label='acc')\n",
        "plt.plot(r.history['val_accuracy'], label='val_acc')\n",
        "plt.legend()"
      ],
      "execution_count": 0,
      "outputs": [
        {
          "output_type": "execute_result",
          "data": {
            "text/plain": [
              "<matplotlib.legend.Legend at 0x7fed227e67f0>"
            ]
          },
          "metadata": {
            "tags": []
          },
          "execution_count": 17
        },
        {
          "output_type": "display_data",
          "data": {
            "image/png": "[encoded data removed]",
            "text/plain": [
              "<Figure size 432x288 with 1 Axes>"
            ]
          },
          "metadata": {
            "tags": []
          }
        }
      ]
    },
    {
      "cell_type": "code",
      "metadata": {
        "id": "2LJTd4OiO6kL",
        "colab_type": "code",
        "outputId": "0dc46a69-4ffc-46b0-b298-89f9a3273889",
        "colab": {
          "base_uri": "https://localhost:8080/"
        }
      },
      "source": [
        "# Plot confusion matrix\n",
        "from sklearn.metrics import confusion_matrix\n",
        "import itertools\n",
        "\n",
        "def plot_confusion_matrix(cm, classes,\n",
        "                          normalize=False,\n",
        "                          title='Confusion matrix',\n",
        "                          cmap=plt.cm.Blues):\n",
        "  \"\"\"\n",
        "  This function prints and plots the confusion matrix.\n",
        "  Normalization can be applied by setting `normalize=True`.\n",
        "  \"\"\"\n",
        "  if normalize:\n",
        "      cm = cm.astype('float') / cm.sum(axis=1)[:, np.newaxis]\n",
        "      print(\"Normalized confusion matrix\")\n",
        "  else:\n",
        "      print('Confusion matrix, without normalization')\n",
        "\n",
        "  print(cm)\n",
        "\n",
        "  plt.imshow(cm, interpolation='nearest', cmap=cmap)\n",
        "  plt.title(title)\n",
        "  plt.colorbar()\n",
        "  tick_marks = np.arange(len(classes))\n",
        "  plt.xticks(tick_marks, classes, rotation=45)\n",
        "  plt.yticks(tick_marks, classes)\n",
        "\n",
        "  fmt = '.2f' if normalize else 'd'\n",
        "  thresh = cm.max() / 2.\n",
        "  for i, j in itertools.product(range(cm.shape[0]), range(cm.shape[1])):\n",
        "      plt.text(j, i, format(cm[i, j], fmt),\n",
        "               horizontalalignment=\"center\",\n",
        "               color=\"white\" if cm[i, j] > thresh else \"black\")\n",
        "\n",
        "  plt.tight_layout()\n",
        "  plt.ylabel('True label')\n",
        "  plt.xlabel('Predicted label')\n",
        "  plt.show()\n",
        "\n",
        "\n",
        "p_test = model.predict(x_test).argmax(axis=1)\n",
        "cm = confusion_matrix(y_test, p_test)\n",
        "plot_confusion_matrix(cm, list(range(10)))\n",
        "\n"
      ],
      "execution_count": 0,
      "outputs": [
        {
          "output_type": "stream",
          "text": [
            "Confusion matrix, without normalization\n",
            "[[875  12  28  15   8   4   8   8  29  13]\n",
            " [  1 970   2   2   0   0   2   0   7  16]\n",
            " [ 17   0 837  31  20  22  52  12   4   5]\n",
            " [  5   3  27 763  30  82  64  13   8   5]\n",
            " [  2   0  40  27 843  12  44  30   2   0]\n",
            " [  4   4  18 114  23 784  30  21   0   2]\n",
            " [  3   1  10  23   8   6 946   0   2   1]\n",
            " [  5   1  15  16  24  13   7 918   0   1]\n",
            " [ 26   8   3   5   3   1   6   4 931  13]\n",
            " [  2  57   2   5   2   0   1   3   6 922]]\n"
          ],
          "name": "stdout"
        },
        {
          "output_type": "display_data",
          "data": {
            "image/png": "[encoded data removed]",
            "text/plain": [
              "<Figure size 432x288 with 2 Axes>"
            ]
          },
          "metadata": {
            "tags": []
          }
        }
      ]
    },
    {
      "cell_type": "code",
      "metadata": {
        "id": "AgQqQHXNXDgw",
        "colab_type": "code",
        "colab": {}
      },
      "source": [
        "# label mapping\n",
        "labels = '''airplane\n",
        "automobile\n",
        "bird\n",
        "cat\n",
        "deer\n",
        "dog\n",
        "frog\n",
        "horse\n",
        "ship\n",
        "truck'''.split()"
      ],
      "execution_count": 0,
      "outputs": []
    },
    {
      "cell_type": "code",
      "metadata": {
        "id": "jjmW4STFO-Ny",
        "colab_type": "code",
        "outputId": "e2547ab7-0758-40da-84be-e80caf0b8c86",
        "colab": {
          "base_uri": "https://localhost:8080/"
        }
      },
      "source": [
        "# Show some misclassified examples\n",
        "misclassified_idx = np.where(p_test != y_test)[0]\n",
        "i = np.random.choice(misclassified_idx)\n",
        "plt.imshow(x_test[i], cmap='gray')\n",
        "plt.title(\"True label: %s Predicted: %s\" % (labels[y_test[i]], labels[p_test[i]]));"
      ],
      "execution_count": 0,
      "outputs": [
        {
          "output_type": "display_data",
          "data": {
            "image/png": "[encoded data removed]",
            "text/plain": [
              "<Figure size 432x288 with 1 Axes>"
            ]
          },
          "metadata": {
            "tags": []
          }
        }
      ]
    },
    {
      "cell_type": "code",
      "metadata": {
        "id": "qNw6PmshWjoZ",
        "colab_type": "code",
        "outputId": "4bd23e0a-a0d2-4c9a-9e79-e99ac6c6fec1",
        "colab": {
          "base_uri": "https://localhost:8080/"
        }
      },
      "source": [
        "# Now that the model is so large, it's useful to summarize it\n",
        "model.summary()"
      ],
      "execution_count": 0,
      "outputs": [
        {
          "output_type": "stream",
          "text": [
            "Model: \"model_1\"\n",
            "_________________________________________________________________\n",
            "Layer (type)                 Output Shape              Param #   \n",
            "=================================================================\n",
            "input_2 (InputLayer)         [(None, 32, 32, 3)]       0         \n",
            "_________________________________________________________________\n",
            "conv2d_6 (Conv2D)            (None, 32, 32, 32)        896       \n",
            "_________________________________________________________________\n",
            "batch_normalization_6 (Batch (None, 32, 32, 32)        128       \n",
            "_________________________________________________________________\n",
            "conv2d_7 (Conv2D)            (None, 32, 32, 32)        9248      \n",
            "_________________________________________________________________\n",
            "batch_normalization_7 (Batch (None, 32, 32, 32)        128       \n",
            "_________________________________________________________________\n",
            "max_pooling2d_3 (MaxPooling2 (None, 16, 16, 32)        0         \n",
            "_________________________________________________________________\n",
            "conv2d_8 (Conv2D)            (None, 16, 16, 64)        18496     \n",
            "_________________________________________________________________\n",
            "batch_normalization_8 (Batch (None, 16, 16, 64)        256       \n",
            "_________________________________________________________________\n",
            "conv2d_9 (Conv2D)            (None, 16, 16, 64)        36928     \n",
            "_________________________________________________________________\n",
            "batch_normalization_9 (Batch (None, 16, 16, 64)        256       \n",
            "_________________________________________________________________\n",
            "max_pooling2d_4 (MaxPooling2 (None, 8, 8, 64)          0         \n",
            "_________________________________________________________________\n",
            "conv2d_10 (Conv2D)           (None, 8, 8, 128)         73856     \n",
            "_________________________________________________________________\n",
            "batch_normalization_10 (Batc (None, 8, 8, 128)         512       \n",
            "_________________________________________________________________\n",
            "conv2d_11 (Conv2D)           (None, 8, 8, 128)         147584    \n",
            "_________________________________________________________________\n",
            "batch_normalization_11 (Batc (None, 8, 8, 128)         512       \n",
            "_________________________________________________________________\n",
            "max_pooling2d_5 (MaxPooling2 (None, 4, 4, 128)         0         \n",
            "_________________________________________________________________\n",
            "flatten_1 (Flatten)          (None, 2048)              0         \n",
            "_________________________________________________________________\n",
            "dropout_2 (Dropout)          (None, 2048)              0         \n",
            "_________________________________________________________________\n",
            "dense_2 (Dense)              (None, 1024)              2098176   \n",
            "_________________________________________________________________\n",
            "dropout_3 (Dropout)          (None, 1024)              0         \n",
            "_________________________________________________________________\n",
            "dense_3 (Dense)              (None, 10)                10250     \n",
            "=================================================================\n",
            "Total params: 2,397,226\n",
            "Trainable params: 2,396,330\n",
            "Non-trainable params: 896\n",
            "_________________________________________________________________\n"
          ],
          "name": "stdout"
        }
      ]
    }
  ]
}