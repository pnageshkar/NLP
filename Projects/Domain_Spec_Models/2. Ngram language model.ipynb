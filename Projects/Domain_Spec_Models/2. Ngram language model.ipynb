{
  "nbformat": 4,
  "nbformat_minor": 0,
  "metadata": {
    "colab": {
      "name": "LPLMDL Task 2",
      "provenance": [],
      "collapsed_sections": []
    },
    "kernelspec": {
      "name": "python3",
      "display_name": "Python 3"
    }
  },
  "cells": [
    {
      "cell_type": "markdown",
      "metadata": {
        "id": "JXuab6JpneJy",
        "colab_type": "text"
      },
      "source": [
        "# N-gram Language model\n",
        "\n",
        "\n",
        "In this task you will build a language model based on the corpus you prepared in Task 1. \n",
        "\n",
        "The solution to task 1 is available [here](https://colab.research.google.com/drive/1m17xuC7pX8d1L_UPxTS4UUG3cElgiwyh). \n",
        "\n",
        "\n",
        "In Task 2, we will work on the following items:\n",
        "\n",
        "* Calculating the probabilities of n-grams using Maximum Likelihood Estimation and the equation: \n",
        "$$p(token / prefix) = \\frac{count(prefix + token)} {count(prefix)}  $$\n",
        "\n",
        "* Assessing the relevance of a sentence by calcultaing its perplexity  \n",
        "* Handling n-grams that are not present in the corpus with Laplace smoothing\n",
        "* Creating a text generator function based on the n-gram model\n",
        "* Generating text with temperature sampling\n",
        "\n",
        "\n",
        "The goal is to have a language model that can \n",
        "\n",
        "* generate text\n",
        "* assess the probability of a sentence\n",
        "\n",
        "And to have a measure of the quality of the language model.\n",
        "\n",
        "Let's go!\n",
        "\n",
        "\n",
        "\n",
        "\n",
        "\n"
      ]
    },
    {
      "cell_type": "markdown",
      "metadata": {
        "id": "sfXBcMPOpJ02",
        "colab_type": "text"
      },
      "source": [
        "# Loading the dataset\n",
        "\n",
        "Let's import the library and load the dataset that we created in the previous task\n"
      ]
    },
    {
      "cell_type": "code",
      "metadata": {
        "id": "H69DABm5qMgt",
        "colab_type": "code",
        "colab": {}
      },
      "source": [
        "import pandas as pd\n",
        "import numpy as np\n",
        "import re\n",
        "import csv\n",
        "from tqdm import tqdm\n",
        "from collections import defaultdict, Counter\n",
        "from nltk.util import ngrams"
      ],
      "execution_count": 0,
      "outputs": []
    },
    {
      "cell_type": "code",
      "metadata": {
        "id": "wV1Qzr-TrYas",
        "colab_type": "code",
        "colab": {}
      },
      "source": [
        "# Set some global parameters\n",
        "\n",
        "# Displaying all columns when displaying dataframes\n",
        "pd.options.display.max_columns = None\n",
        "\n",
        "# We will work with trigrams \n",
        "ngrams_degree = 3\n"
      ],
      "execution_count": 0,
      "outputs": []
    },
    {
      "cell_type": "code",
      "metadata": {
        "id": "yuV6ny4UvZqf",
        "colab_type": "code",
        "colab": {}
      },
      "source": [
        "# if there's a problem with the versions of the librairies, you can . . uncomment this line and install the proper versions\n",
        "\n",
        "# !pip install -r requirements.txt"
      ],
      "execution_count": 0,
      "outputs": []
    },
    {
      "cell_type": "code",
      "metadata": {
        "id": "fHoDlqr_qPub",
        "colab_type": "code",
        "colab": {}
      },
      "source": [
        "# Load data into pandas dataframe, shuffle it and reset the index\n",
        "df = pd.read_csv('https://alexip-ml.s3.amazonaws.com/stackexchange_812k.tokenized.csv.gz', compression='gzip').sample(frac = 1, random_state = 8).reset_index(drop = True)\n"
      ],
      "execution_count": 0,
      "outputs": []
    },
    {
      "cell_type": "code",
      "metadata": {
        "id": "4xS79J8OekRl",
        "colab_type": "code",
        "outputId": "b3884596-2ad1-4bc5-b87b-40d4f03d28c0",
        "colab": {
          "base_uri": "https://localhost:8080/",
          "height": 399
        }
      },
      "source": [
        "# Display the dimensions of the dataframe \n",
        "print(\"{}\\n\".format(df.shape))\n",
        "# and the 1st 5 lines\n",
        "print(df.head())"
      ],
      "execution_count": 0,
      "outputs": [
        {
          "output_type": "stream",
          "text": [
            "(789649, 7)\n",
            "\n",
            "   post_id  parent_id  comment_id  \\\n",
            "0   161009        NaN    309845.0   \n",
            "1   156252        NaN    298634.0   \n",
            "2   423360        NaN    790161.0   \n",
            "3   268623        NaN         NaN   \n",
            "4   433662        NaN    808873.0   \n",
            "\n",
            "                                                text category  \\\n",
            "0  I can't disclose the algorithm, but I can cert...  comment   \n",
            "1  I plan to leave the answer to this question in...  comment   \n",
            "2  Wait, I need to clarify how is Half-normal dis...  comment   \n",
            "3  I am fitting several models of the form.. glm ...     post   \n",
            "4  If you really want to calculate some p-value u...  comment   \n",
            "\n",
            "                                              tokens  n_tokens  \n",
            "0  i can ' t disclose the algorithm , but i can c...        40  \n",
            "1  i plan to leave the answer to this question in...        84  \n",
            "2  wait , i need to clarify how is half - normal ...        25  \n",
            "3  i am fitting several models of the form .. glm...        82  \n",
            "4  if you really want to calculate some p - value...        66  \n"
          ],
          "name": "stdout"
        }
      ]
    },
    {
      "cell_type": "markdown",
      "metadata": {
        "id": "TL9EncUpxTN4",
        "colab_type": "text"
      },
      "source": [
        "The tokens were saved as strings with space separated tokens for simplicity purposes. \n",
        "\n",
        "Let's transform the tokens colum as an actual list of tokens."
      ]
    },
    {
      "cell_type": "code",
      "metadata": {
        "id": "T3eW9r6erVG1",
        "colab_type": "code",
        "colab": {}
      },
      "source": [
        "df['tokens'] = df.tokens.apply(lambda txt : txt.split())"
      ],
      "execution_count": 0,
      "outputs": []
    },
    {
      "cell_type": "code",
      "metadata": {
        "id": "pLajyrl-sOey",
        "colab_type": "code",
        "outputId": "89672f76-cf37-45ff-e57d-0625130292a7",
        "colab": {
          "base_uri": "https://localhost:8080/",
          "height": 141
        }
      },
      "source": [
        "df.sample(5).tokens.values"
      ],
      "execution_count": 0,
      "outputs": [
        {
          "output_type": "execute_result",
          "data": {
            "text/plain": [
              "array([list(['my', 'answer', 'is', 'relevant', 'per', \"'\", 's', 'comment', 'which', 'stats', 'tests', 'to', 'use', '?']),\n",
              "       list(['your', 'suggested', 'method', 'doesn', \"'\", 't', 'seem', 'to', 'account', 'for', 'autocorrelation', '-', 'i', '.', 'e', '.', 'values', 'for', 'the', 'response', 'will', 'be', 'more', 'similar', 'the', 'closer', 'together', 'in', 'time', 'the', 'observations', 'are', ',', 'violating', 'any', 'assumptions', 'of', 'independent', 'data', 'points', '.', 'would', 'it', 'be', 'better', 'to', 'e', '.', 'g', '.', 'run', 'multiple', 'arma', 'models', ',', 'each', 'with', 'a', 'different', 'adstock', 'rate', ',', 'then', 'use', 'something', 'like', 'aic', 'to', 'pick', 'the', 'final', 'model', '?']),\n",
              "       list(['incidentally', ',', 'the', 'factorisation', 'theorem', 'argument', 'isn', \"'\", 't', 'mine', 'but', 'a', 'result', 'which', 'goes', 'back', 'to', 'fisher', 'neyman', 'and', 'is', 'in', 'any', 'intro', 'stat', 'inference', 'text', '.']),\n",
              "       list(['your', 'rule', 'of', 'thumb', 'is', 'not', 'particularly', 'good', 'if', '.']),\n",
              "       list(['please', 'edit', 'your', 'question', 'to', 'mention', 'that', 'you', \"'\", 've', 'simultaneously', 'cross', '-', 'posted', 'this', 'question', 'at', 'and', 'if', 'you', 'accept', 'an', 'answer', 'at', 'one', 'forum', ',', 'please', 'mention', 'that', 'at', 'the', 'other', 'forum', 'so', 'folks', 'can', 'spend', 'time', 'on', 'questions', 'that', 'have', 'yet', 'to', 'be', 'answered', '.'])],\n",
              "      dtype=object)"
            ]
          },
          "metadata": {
            "tags": []
          },
          "execution_count": 18
        }
      ]
    },
    {
      "cell_type": "markdown",
      "metadata": {
        "id": "Uqjl-9BxdAWm",
        "colab_type": "text"
      },
      "source": [
        "We split the dataset into a training and a testing subset. \n",
        "\n",
        "The testing subset is somposed of the titles, the train subset is composed of posts and comments\n"
      ]
    },
    {
      "cell_type": "code",
      "metadata": {
        "id": "VYlDBQtadOfU",
        "colab_type": "code",
        "colab": {}
      },
      "source": [
        "df_train = df[df.category.isin(['post','comment'])].copy()\n",
        "df_test = df[df.category.isin(['title'])].copy()"
      ],
      "execution_count": 0,
      "outputs": []
    },
    {
      "cell_type": "code",
      "metadata": {
        "id": "lN7UD6Baqr4E",
        "colab_type": "code",
        "outputId": "ca897b4f-4f07-4a3c-9782-bfeba7026ee2",
        "colab": {
          "base_uri": "https://localhost:8080/",
          "height": 799
        }
      },
      "source": [
        "# Display the dimensions of the dataframe \n",
        "print(\"-- Training set: {}\\n\".format(df_train.shape))\n",
        "# and the 1st 5 lines\n",
        "print(df_train.head())\n",
        "\n",
        "print(\"\\n-- Testing set {}\\n\".format(df_test.shape))\n",
        "print(df_test.head())\n"
      ],
      "execution_count": 0,
      "outputs": [
        {
          "output_type": "stream",
          "text": [
            "-- Training set: (705964, 7)\n",
            "\n",
            "   post_id  parent_id  comment_id  \\\n",
            "0   161009        NaN    309845.0   \n",
            "1   156252        NaN    298634.0   \n",
            "2   423360        NaN    790161.0   \n",
            "3   268623        NaN         NaN   \n",
            "4   433662        NaN    808873.0   \n",
            "\n",
            "                                                text category  \\\n",
            "0  I can't disclose the algorithm, but I can cert...  comment   \n",
            "1  I plan to leave the answer to this question in...  comment   \n",
            "2  Wait, I need to clarify how is Half-normal dis...  comment   \n",
            "3  I am fitting several models of the form.. glm ...     post   \n",
            "4  If you really want to calculate some p-value u...  comment   \n",
            "\n",
            "                                              tokens  n_tokens  \n",
            "0  [i, can, ', t, disclose, the, algorithm, ,, bu...        40  \n",
            "1  [i, plan, to, leave, the, answer, to, this, qu...        84  \n",
            "2  [wait, ,, i, need, to, clarify, how, is, half,...        25  \n",
            "3  [i, am, fitting, several, models, of, the, for...        82  \n",
            "4  [if, you, really, want, to, calculate, some, p...        66  \n",
            "\n",
            "-- Testing set (83685, 7)\n",
            "\n",
            "    post_id  parent_id  comment_id  \\\n",
            "21   154700        NaN         NaN   \n",
            "24   160640        NaN         NaN   \n",
            "27   148203        NaN         NaN   \n",
            "28   327174        NaN         NaN   \n",
            "33   169986        NaN         NaN   \n",
            "\n",
            "                                                 text category  \\\n",
            "21  Are aov with Error same as lmer of lme package...    title   \n",
            "24  How to compare contingency tables for a specif...    title   \n",
            "27        One-sided significance test for correlation    title   \n",
            "28  Visualization activization maximization for re...    title   \n",
            "33  Meaning of Intercept and what the intercept sh...    title   \n",
            "\n",
            "                                               tokens  n_tokens  \n",
            "21  [are, aov, with, error, same, as, lmer, of, lm...        13  \n",
            "24  [how, to, compare, contingency, tables, for, a...        10  \n",
            "27  [one, -, sided, significance, test, for, corre...         7  \n",
            "28  [visualization, activization, maximization, fo...         8  \n",
            "33  [meaning, of, intercept, and, what, the, inter...        14  \n"
          ],
          "name": "stdout"
        }
      ]
    },
    {
      "cell_type": "markdown",
      "metadata": {
        "id": "oegvQAzqyyST",
        "colab_type": "text"
      },
      "source": [
        "# Counting bigrams and following tokens\n",
        "We build a counts object defined as a defaultdict(Counter). \n",
        "\n",
        "Taking into account all trigrams (ngrams_degree = 3) that we break into prefix (bigrams) followed by single tokens. \n",
        "\n",
        "The counts object will have the bigrams as keys and for each key a Counter of all the potential tokens. \n",
        "\n",
        "For instance, if the corpus contains a 100 instances of \"*how many people*\" and a 120 instances of \"*how many times*\" we would get the following entry:\n",
        "\n",
        "    counts[('how', 'many')] = Counter('people': 100, 'times': 120, .... )\n",
        "\n",
        "Similarly if the corpus contains \"*the model is*\" 500 times and \"*the model parameters*\" 200 times, we end up with:\n",
        "\n",
        "    counts[('the', 'model')] = Counter('is': 500, 'parameters': 200, .... )\n",
        "\n",
        "To split the tokens into bigramns we use the [ntlk.ngrams](https://www.nltk.org/api/nltk.html#nltk.util.ngrams) function:\n",
        "\n",
        "\n",
        "    Return the ngrams generated from a sequence of items, as an iterator.\n",
        "    For example:\n",
        "\n",
        "    >>> from nltk.util import ngrams\n",
        "    >>> list(ngrams([1,2,3,4,5], 3))\n",
        "    [(1, 2, 3), (2, 3, 4), (3, 4, 5)]\n",
        "\n",
        "The next cell should take a couple of minutes.\n",
        "\n",
        "Note that we build the mode on the training subset df_train and leave the testing subset aside.\n",
        "\n",
        "\n"
      ]
    },
    {
      "cell_type": "code",
      "metadata": {
        "id": "L8cvgLCysPZR",
        "colab_type": "code",
        "outputId": "ed36d02c-4bee-41bb-d7da-ac9a01f5aa14",
        "colab": {
          "base_uri": "https://localhost:8080/",
          "height": 34
        }
      },
      "source": [
        "counts = defaultdict(Counter)\n",
        "for tokens in tqdm(df_train.tokens.values):\n",
        "    for ngram in ngrams(\n",
        "          tokens, \n",
        "          n= ngrams_degree,  \n",
        "          pad_right=True, \n",
        "          pad_left=True, \n",
        "          left_pad_symbol=\"<s>\", \n",
        "          right_pad_symbol=\"</s>\"):\n",
        "      \n",
        "        prefix = ngram[:ngrams_degree-1]\n",
        "        token = ngram[ngrams_degree-1]\n",
        "        counts[prefix][token] +=1\n"
      ],
      "execution_count": 0,
      "outputs": [
        {
          "output_type": "stream",
          "text": [
            "100%|██████████| 705964/705964 [02:16<00:00, 5179.64it/s]\n"
          ],
          "name": "stderr"
        }
      ]
    },
    {
      "cell_type": "markdown",
      "metadata": {
        "id": "NIfMPB3H1PZF",
        "colab_type": "text"
      },
      "source": [
        "We can explore the counts object"
      ]
    },
    {
      "cell_type": "code",
      "metadata": {
        "id": "TbMNhbnCsb3b",
        "colab_type": "code",
        "outputId": "4c754da2-edbe-46a3-88be-bc5fef41d91e",
        "colab": {
          "base_uri": "https://localhost:8080/",
          "height": 34
        }
      },
      "source": [
        "print(\"we have {} bigrams\".format(len(counts.keys())))"
      ],
      "execution_count": 0,
      "outputs": [
        {
          "output_type": "stream",
          "text": [
            "we have 3332935 bigrams\n"
          ],
          "name": "stdout"
        }
      ]
    },
    {
      "cell_type": "code",
      "metadata": {
        "id": "UZAt_buMscsL",
        "colab_type": "code",
        "outputId": "b49bdc8c-ebf6-48b5-a8d8-856e8755a8dc",
        "colab": {
          "base_uri": "https://localhost:8080/",
          "height": 104
        }
      },
      "source": [
        "import random\n",
        "for i in range(5):\n",
        "    prefix = random.choice(list(counts.keys()))\n",
        "    print(\"{}: \\t{}\".format(prefix,counts[prefix]))"
      ],
      "execution_count": 0,
      "outputs": [
        {
          "output_type": "stream",
          "text": [
            "('ecdf', 'output'): \tCounter({'for': 1})\n",
            "('statistic', 'whether'): \tCounter({'my': 1})\n",
            "(',', 'texvars'): \tCounter({',': 1, '.': 1})\n",
            "('act', 'out'): \tCounter({'within': 1, 'with': 1, 'together': 1})\n",
            "('object', 'created'): \tCounter({'by': 9, 'in': 2, 'from': 1})\n"
          ],
          "name": "stdout"
        }
      ]
    },
    {
      "cell_type": "markdown",
      "metadata": {
        "id": "5coZ8qANhBmn",
        "colab_type": "text"
      },
      "source": [
        "Let's look at the number of potential tokens for each bigram. \n",
        "\n"
      ]
    },
    {
      "cell_type": "code",
      "metadata": {
        "id": "QKHGK16sicW_",
        "colab_type": "code",
        "colab": {}
      },
      "source": [
        "tokens_count = [ len(v)   for k,v in counts.items()  ]"
      ],
      "execution_count": 0,
      "outputs": []
    },
    {
      "cell_type": "code",
      "metadata": {
        "id": "z36-SPk0hLqe",
        "colab_type": "code",
        "outputId": "d1a108a7-4fae-458d-eac3-836cc5472357",
        "colab": {
          "base_uri": "https://localhost:8080/",
          "height": 374
        }
      },
      "source": [
        "import matplotlib.pyplot as plt\n",
        "fig, ax = plt.subplots(1,1, figsize=(12,6))\n",
        "plt.hist(tokens_count, bins = 100);"
      ],
      "execution_count": 0,
      "outputs": [
        {
          "output_type": "display_data",
          "data": {
            "image/png": "[encoded data removed]",
            "text/plain": [
              "<Figure size 864x432 with 1 Axes>"
            ]
          },
          "metadata": {
            "tags": []
          }
        }
      ]
    },
    {
      "cell_type": "markdown",
      "metadata": {
        "id": "mgWVBhFOjTtN",
        "colab_type": "text"
      },
      "source": [
        "As we can see, most bigrams only have one potential following token. \n"
      ]
    },
    {
      "cell_type": "code",
      "metadata": {
        "id": "QUI1f7ChjXDT",
        "colab_type": "code",
        "outputId": "9e8848bd-eba3-4aeb-b88c-48de227f35fb",
        "colab": {
          "base_uri": "https://localhost:8080/",
          "height": 52
        }
      },
      "source": [
        "bigrams_with_single_tokens = [ k   for k,v in counts.items() if len(v) == 1 ]\n",
        "bigrams_with_two_tokens = [ k   for k,v in counts.items() if len(v) == 2 ]\n",
        "\n",
        "print(\"{} bigrams_with_single_tokens\".format(len(bigrams_with_single_tokens)))\n",
        "print(\"{} bigrams_with_two_tokens\".format(len(bigrams_with_two_tokens)))\n"
      ],
      "execution_count": 0,
      "outputs": [
        {
          "output_type": "stream",
          "text": [
            "2146242 bigrams_with_single_tokens\n",
            "446829 bigrams_with_two_tokens\n"
          ],
          "name": "stdout"
        }
      ]
    },
    {
      "cell_type": "markdown",
      "metadata": {
        "id": "66Oqu0fni4xo",
        "colab_type": "text"
      },
      "source": [
        "2 bigrams have over 10,000 potential tokens:"
      ]
    },
    {
      "cell_type": "code",
      "metadata": {
        "id": "maq32UCnhCVf",
        "colab_type": "code",
        "outputId": "bf23737a-fa01-41a0-d53e-3cb0e1ffc952",
        "colab": {
          "base_uri": "https://localhost:8080/",
          "height": 34
        }
      },
      "source": [
        "tokens_dict = { k:len(v)   for k,v in counts.items() if len(v) > 10000 }\n",
        "tokens_dict\n"
      ],
      "execution_count": 0,
      "outputs": [
        {
          "output_type": "execute_result",
          "data": {
            "text/plain": [
              "{('<s>', '<s>'): 11564, ('of', 'the'): 10815}"
            ]
          },
          "metadata": {
            "tags": []
          },
          "execution_count": 46
        }
      ]
    },
    {
      "cell_type": "markdown",
      "metadata": {
        "id": "gs4sLf7ZkgOU",
        "colab_type": "text"
      },
      "source": [
        "Note: At this point we could decide to remove all the bigrams with a single potential token as not being significant. This would reduce the size of the model. We will see later on if that actually improves the model or degrades it."
      ]
    },
    {
      "cell_type": "markdown",
      "metadata": {
        "id": "a717NY_i3cyK",
        "colab_type": "text"
      },
      "source": [
        "# token / prefix probabilities\n",
        "\n",
        "To obtain token / prefix probabilities using the Maximum Likelihood Estimator, we must simply normalize each (prefix - token) count by the total number of the prefix occurence. \n",
        "\n",
        "$$p(token / prefix) = \\frac{count(prefix + token)} {count(prefix)}$$\n",
        "\n",
        "\n",
        "Keeping the same defaultdict(Counter) structure for the freq object, we should obtain something similar to \n",
        "\n",
        "\n",
        "    freq[('how', 'many')] = {'people': 0.14, 'times': 120, .... }\n",
        "\n",
        "with \n",
        "* p(people / how many) = c('how many people') / c('how many') \n",
        "* p(times / how many) = c('how many times') / c('how many')\n",
        "\n",
        "\n",
        "\n"
      ]
    },
    {
      "cell_type": "code",
      "metadata": {
        "id": "Lt1QYcHlssWI",
        "colab_type": "code",
        "colab": {}
      },
      "source": [
        "freq = defaultdict(dict)\n",
        "for prefix, tokens in counts.items():\n",
        "    total = sum( counts[prefix].values()  )\n",
        "    for token, c in tokens.items():\n",
        "        freq[prefix][token] = c / total\n"
      ],
      "execution_count": 0,
      "outputs": []
    },
    {
      "cell_type": "markdown",
      "metadata": {
        "id": "DdpOwLnC4sVu",
        "colab_type": "text"
      },
      "source": [
        "Which gives us the following sample:"
      ]
    },
    {
      "cell_type": "code",
      "metadata": {
        "id": "QsSnzS8x4mMe",
        "colab_type": "code",
        "outputId": "66a3ab1b-3bf2-4221-c89d-da5725a52ec2",
        "colab": {
          "base_uri": "https://localhost:8080/",
          "height": 104
        }
      },
      "source": [
        "for i in range(5):\n",
        "    prefix = random.choice(list(freq.keys()))\n",
        "    print(\"{}: \\t{}\".format(prefix,freq[prefix]))"
      ],
      "execution_count": 0,
      "outputs": [
        {
          "output_type": "stream",
          "text": [
            "('new', 'trainset'): \t{',': 0.5, 'has': 0.5}\n",
            "('model', 'json'): \t{'model': 0.5, 'serialize': 0.5}\n",
            "('intercept', 'det'): \t{'correlation': 1.0}\n",
            "('probabilty', 'equal'): \t{'to': 1.0}\n",
            "('theorem', 'verifying'): \t{'that': 1.0}\n"
          ],
          "name": "stdout"
        }
      ]
    },
    {
      "cell_type": "markdown",
      "metadata": {
        "id": "70ZlWvA54_JF",
        "colab_type": "text"
      },
      "source": [
        "# Text generation\n",
        "\n",
        "Next we write a text generating function which:\n",
        "* takes a bigram as input\n",
        "  * Note: In this version of the function, the bigram must exist in the corpus\n",
        "* generates a new token by sampling the available tokens related to the bigram using the freq object as distribution \n",
        "* sliding the bigram to include the new token\n",
        "* generating a new token based on the new bigram\n",
        "* stopping when the text is N tokens long or the latest token is the end of string symbol\n",
        "\n"
      ]
    },
    {
      "cell_type": "code",
      "metadata": {
        "id": "OGlrLVja4zC9",
        "colab_type": "code",
        "colab": {}
      },
      "source": [
        "def generate(text, n_words = 40):\n",
        "    for i in range(n_words):\n",
        "        prefix = tuple(text.split()[-ngrams_degree+1:])\n",
        "        # no available text\n",
        "        if len(freq[prefix]) == 0:\n",
        "            break\n",
        "        candidates  = list(freq[prefix].keys())\n",
        "        probas      = list(freq[prefix].values())\n",
        "        text       += ' ' + np.random.choice(candidates, p = probas)\n",
        "        if text.endswith('</s>'):\n",
        "            break\n",
        "\n",
        "    return text\n"
      ],
      "execution_count": 0,
      "outputs": []
    },
    {
      "cell_type": "markdown",
      "metadata": {
        "id": "SYqAncrc6K0R",
        "colab_type": "text"
      },
      "source": [
        "Now let's have some fun with that language model.\n",
        "\n",
        "You can choose any seed bigramns as long as it is present in the corpus. "
      ]
    },
    {
      "cell_type": "code",
      "metadata": {
        "id": "_JH3qRGG6Gjb",
        "colab_type": "code",
        "outputId": "4c8cbd56-d2e4-4951-a6d0-87b296c4db42",
        "colab": {
          "base_uri": "https://localhost:8080/",
          "height": 141
        }
      },
      "source": [
        "text      = 'the model'\n",
        "print()\n",
        "print(generate(text))\n",
        "\n",
        "print()\n",
        "text      = 'that distribution'\n",
        "print(generate(text))\n",
        "\n",
        "print()\n",
        "text      = 'to determine'\n",
        "print(generate(text))\n"
      ],
      "execution_count": 0,
      "outputs": [
        {
          "output_type": "stream",
          "text": [
            "\n",
            "the model for every possible single - step random walks and then you could get some non - response curves for individual distribution identification and confidence limits for the comments , why would it just sounds horribly wrong in running mixed design\n",
            "\n",
            "that distribution . also do not necessarily prior experiment , or with margins that is relevant to ordinal , , , , . e - . - . . . . - . - - el - khouri doi . - .\n",
            "\n",
            "to determine the virality of the models you ' re asking something different to the f - m q . recode readings as a function of y . for this . the original data ' data will look like . you are\n"
          ],
          "name": "stdout"
        }
      ]
    },
    {
      "cell_type": "markdown",
      "metadata": {
        "id": "fyqQm1ZP64T_",
        "colab_type": "text"
      },
      "source": [
        "# Temperature sampling\n",
        "\n",
        "As you may have noticed, for some bigrams, one particular token may be much more frequent than the others potential tokens. \n",
        "\n",
        "For instance:\n",
        "\n",
        "* ('building', 'machine'): \t{'learning': 0.875, 'classification': 0.125}\n",
        "\n",
        "when generating the next token based on the bigram \"*building machine*\", most of the times the word \"learning\" will be chosen instead of \"classification\".\n",
        "\n",
        "In order to compensate these imbalances and improve the chances of less frequent tokens to be chosen we can sample with temperature.\n",
        "\n",
        "In order to increase the randomness of the next token selection given a prefix, we can flatten the distribution using the temperature $$\\tau$$ to define a new probability distribution as such:\n",
        "\n",
        "$$f_{\\tau}(p_i) = \\frac{ p_i^{\\frac{1}{\\tau}} }{ \\sum_j p_j^{\\frac{1}{\\tau}} }$$\n",
        "\n",
        "See [this post](https://stats.stackexchange.com/questions/255223/the-effect-of-temperature-in-temperature-sampling) for a more in-depth explanation on temperature sampling.\n",
        "\n",
        "\n"
      ]
    },
    {
      "cell_type": "code",
      "metadata": {
        "id": "hMC4idKN6Ihe",
        "colab_type": "code",
        "colab": {}
      },
      "source": [
        "def generate_temp(text, temperature = 1, n_words=30):\n",
        "    for i in range(n_words):\n",
        "        prefix = tuple(text.split()[-ngrams_degree+1:])\n",
        "        # no available next word\n",
        "        if len(freq[prefix]) == 0:\n",
        "            break\n",
        "        candidates  = list(freq[prefix].keys())\n",
        "        initial_probas = list(freq[prefix].values())\n",
        "        # modify distribution\n",
        "        denom   = sum( [ p ** temperature for p in initial_probas ] )\n",
        "        probas  = [ p ** temperature / denom  for p in initial_probas  ]\n",
        "\n",
        "        text       += ' ' + np.random.choice(candidates, p = probas)\n",
        "        if text.endswith('</s>'):\n",
        "            break\n",
        "\n",
        "    return text\n"
      ],
      "execution_count": 0,
      "outputs": []
    },
    {
      "cell_type": "markdown",
      "metadata": {
        "id": "mWhmCw3s963C",
        "colab_type": "text"
      },
      "source": [
        "Let's generate some text with different values for the temperature.\n",
        "\n",
        "The higher the temperature, the less chaotic (and shorter) the generated text will end up being."
      ]
    },
    {
      "cell_type": "code",
      "metadata": {
        "id": "nBUTOMX09zIu",
        "colab_type": "code",
        "outputId": "ce0ecfca-7022-4fef-c87c-6af89ddbb65a",
        "colab": {
          "base_uri": "https://localhost:8080/",
          "height": 191
        }
      },
      "source": [
        "text  = 'the model'\n",
        "# text  = 'to determine'\n",
        "# text  = 'not sure'\n",
        "\n",
        "for tau in [0.01, 0.5, 1, 3, 10]:\n",
        "  print(tau)\n",
        "  print(generate_temp(text, temperature = tau))\n",
        "\n"
      ],
      "execution_count": 0,
      "outputs": [
        {
          "output_type": "stream",
          "text": [
            "0.01\n",
            "the model closely . that watson ’ s measurements and consider y - width is nothing degenerate about the rep put your finger than there will in fact correct because not everybody\n",
            "0.5\n",
            "the model even asymptotically the posterior parameters for both prediction that has calculated tau -. , ncol arima mean metrics such as mi . second model b to d vectors or context\n",
            "1\n",
            "the model at the beginning of one where a is on noise levels . all the monthly intervals . in particular with time series , go - to - one - sided\n",
            "3\n",
            "the model . i have a look at the end . </s>\n",
            "10\n",
            "the model . </s>\n"
          ],
          "name": "stdout"
        }
      ]
    },
    {
      "cell_type": "markdown",
      "metadata": {
        "id": "jQ4OxyWU_RTG",
        "colab_type": "text"
      },
      "source": [
        "# Perplexity\n",
        "\n",
        "Let's now implement a way to measure the quality of our model.\n",
        "\n",
        "The idea is to estimate the probability of a test sentence given our model. \n",
        "An uncommon sentence should be less probable than a common one.\n",
        "\n",
        "\n",
        "Notes : \n",
        "  1. At this point the sentence should exist in the corpus. Our model does not know yet how to handle out-of-vocabulary (OOV) bigrams, trigrams or tokens.\n",
        "  2. To avoid the problem of underflow caused by multiplying multiple very small floats, we work in the log space:\n",
        "\n",
        "So instead of calculating perplexity with (case ngrams_degree = 3):\n",
        " \n",
        "$$PP(w_{1},\\cdots, w_N) = ( \\prod_{i = 3}^{N} \\frac{1}{ p(w_i/ w_{i-2}w_{i-1} )} )^{\\frac{1}{N}}$$\n",
        "\n",
        "We compute\n",
        "\n",
        "$$PP(w_{1},\\cdots, w_N) = \\exp [ - \\frac{1}{N} {\\sum_{i = 3}^{N} \\log {p(w_i/ w_{i-2}w_{i-1}} } ) ]$$\n",
        "\n"
      ]
    },
    {
      "cell_type": "code",
      "metadata": {
        "id": "sBaXy5fJ-SgY",
        "colab_type": "code",
        "colab": {}
      },
      "source": [
        "from nltk.tokenize import WordPunctTokenizer\n",
        "\n",
        "tokenizer = WordPunctTokenizer()\n",
        "\n",
        "\n",
        "def perplexity(sentence):\n",
        "    sentence = tokenizer.tokenize(sentence.lower())\n",
        "    N = len(sentence)\n",
        "    logprob = 0\n",
        "    \n",
        "    for ngram in ngrams(\n",
        "          sentence, \n",
        "          n= ngrams_degree,  \n",
        "          pad_right=True, pad_left=True, \n",
        "          left_pad_symbol=\"<s>\", right_pad_symbol=\"</s>\"):\n",
        "        try:\n",
        "          prefix = ngram[:ngrams_degree-1] \n",
        "          token = ngram[ngrams_degree-1]\n",
        "          logprob += np.log( freq[ prefix ][token]  )\n",
        "        except:\n",
        "            pass\n",
        "\n",
        "    return np.exp(- logprob / N)\n",
        "\n"
      ],
      "execution_count": 0,
      "outputs": []
    },
    {
      "cell_type": "markdown",
      "metadata": {
        "id": "HvFOsEsxAFlI",
        "colab_type": "text"
      },
      "source": [
        "Let's calculate the perplexity on some sentences.\n",
        "\n",
        "Take the time to see how the perplexity score varies when you . . modify the sentence. For instance compare the perplexity for\n",
        "\n",
        "* *the difference between the two approaches is discussed here.*\n",
        "* *the difference between the two approaches is discussed here*\n",
        "* *the difference between the two approaches*\n"
      ]
    },
    {
      "cell_type": "code",
      "metadata": {
        "id": "fASAO_JzAEbc",
        "colab_type": "code",
        "outputId": "09abf878-8996-44d3-c5c6-cfaa2aa6c1c7",
        "colab": {
          "base_uri": "https://localhost:8080/",
          "height": 104
        }
      },
      "source": [
        "sentence = \"the difference between the two approaches is discussed here\"\n",
        "print(\"[perplexity {:.2f}] {}\".format(perplexity(sentence), sentence))\n",
        "\n",
        "sentence = \"this question really belongs on a different site\"\n",
        "print()\n",
        "print(\"[perplexity {:.2f}] {}\".format(perplexity(sentence), sentence))\n",
        "\n",
        "sentence = \"The function may only be linear in the region where the points were taken\"\n",
        "print()\n",
        "print(\"[perplexity {:.2f}] {}\".format(perplexity(sentence), sentence))\n"
      ],
      "execution_count": 0,
      "outputs": [
        {
          "output_type": "stream",
          "text": [
            "[perplexity 22.63] the difference between the two approaches is discussed here\n",
            "\n",
            "[perplexity 38.12] this question really belongs on a different site\n",
            "\n",
            "[perplexity 72.18] The function may only be linear in the region where the points were taken\n"
          ],
          "name": "stdout"
        }
      ]
    },
    {
      "cell_type": "markdown",
      "metadata": {
        "id": "ekhHxEZOC0Ht",
        "colab_type": "text"
      },
      "source": [
        "# Out of Vocabulary (OOV) \n",
        "\n",
        "The main weakness of our model so far is that it does not know how to handle elements that are not already in the original corpus.\n",
        "\n",
        "Since both when generating text and when calculating perplexity we use the count of the prefix in the corpus, when that prefix is missing, the counts = 0  which causes problems with logs and divisions.\n",
        "\n",
        "To remediate to that problem we can artificially assign a probability (although a very low one) to missing ngrams and tokens.\n",
        "\n",
        "This method is called Laplace smoothing. It relies on calculating the frequency of a token / prefix with:\n",
        "\n",
        "$$ p(token / prefix) = \\frac{ count( prefix + token) + \\delta}{count(prefix) + \\delta \\times |N| }$$\n",
        "\n",
        "\n",
        "Where \n",
        "\n",
        "* N is the total number of prefixes in the model\n",
        "* delta is an arbitrary number \n",
        "\n",
        "When the prefix is missing from the original corpus, the probability of a token / prefix will now be:\n",
        "\n",
        "$$p(token / prefix) = \\frac{1} { | N |}$$\n",
        "\n",
        "Let's implement that perplexity with Laplace Smoothing\n",
        "\n",
        "\n",
        "\n",
        "\n",
        "\n",
        "\n"
      ]
    },
    {
      "cell_type": "markdown",
      "metadata": {
        "id": "1Lbwk0_rqrXa",
        "colab_type": "text"
      },
      "source": [
        ""
      ]
    },
    {
      "cell_type": "code",
      "metadata": {
        "id": "bMPyoR4xALs2",
        "colab_type": "code",
        "colab": {}
      },
      "source": [
        "def perplexity_laplace(sentence,delta = 1):\n",
        "    sentence = tokenizer.tokenize(sentence.lower())\n",
        "    N = len(sentence)\n",
        "    logprob = 0\n",
        "    for ngram in ngrams(\n",
        "          sentence, \n",
        "          n= ngrams_degree,  \n",
        "          pad_right=True, pad_left=True, \n",
        "          left_pad_symbol=\"<s>\", right_pad_symbol=\"</s>\"):\n",
        "        prefix = ngram[:ngrams_degree-1]\n",
        "        token = ngram[ngrams_degree-1]\n",
        "        if prefix in list(counts.keys()):\n",
        "            total = sum( counts[prefix].values()  )\n",
        "            if token in counts[prefix].keys():\n",
        "                # normal calculation\n",
        "                logprob += np.log( (counts[prefix][token] + delta)/ (total + delta * N ) )\n",
        "            else:\n",
        "                logprob += np.log( ( delta)/ (total + delta * N ) )\n",
        "        else:\n",
        "            logprob += - np.log( N )\n",
        "  \n",
        "    return np.exp(-logprob / N)\n",
        "\n"
      ],
      "execution_count": 0,
      "outputs": []
    },
    {
      "cell_type": "markdown",
      "metadata": {
        "id": "argLcwydEbS2",
        "colab_type": "text"
      },
      "source": [
        "We can now calculate the perplexity of sentences that were not present in the original corpus. \n",
        "\n",
        "For instance: "
      ]
    },
    {
      "cell_type": "code",
      "metadata": {
        "id": "kXQ0559WAv27",
        "colab_type": "code",
        "outputId": "4c028db3-7011-41c3-8ba6-b2e00e9cfeee",
        "colab": {
          "base_uri": "https://localhost:8080/",
          "height": 52
        }
      },
      "source": [
        "sentence = \"this model belongs on a different planet\"\n",
        "print(\"[perplexity {:.2f}] {}\".format(perplexity_laplace(sentence, delta = 10), sentence))\n",
        "\n",
        "sentence = \"this question really belongs on a different site.\"\n",
        "print(\"[perplexity {:.2f}] {}\".format(perplexity_laplace(sentence, delta = 10), sentence))\n"
      ],
      "execution_count": 0,
      "outputs": [
        {
          "output_type": "stream",
          "text": [
            "[perplexity 142.66] this model belongs on a different planet\n",
            "[perplexity 35.50] this question really belongs on a different site.\n"
          ],
          "name": "stdout"
        }
      ]
    },
    {
      "cell_type": "code",
      "metadata": {
        "id": "m6uDCIVAAwqp",
        "colab_type": "code",
        "outputId": "acb0fb1f-27b5-48de-ef67-c77531f6b209",
        "colab": {
          "base_uri": "https://localhost:8080/",
          "height": 86
        }
      },
      "source": [
        "sentence = \"this model belongs on a different planet\"\n",
        "print(\"\\n[perplexity {:.2f}] {}\".format(perplexity_laplace(sentence, delta = 1), sentence))\n",
        "\n",
        "sentence = \"this question really belongs on a different site.\"\n",
        "print(\"\\n[perplexity {:.2f}] {}\".format(perplexity_laplace(sentence, delta = 1), sentence))\n"
      ],
      "execution_count": 0,
      "outputs": [
        {
          "output_type": "stream",
          "text": [
            "\n",
            "[perplexity 319.66] this model belongs on a different planet\n",
            "\n",
            "[perplexity 36.10] this question really belongs on a different site.\n"
          ],
          "name": "stdout"
        }
      ]
    },
    {
      "cell_type": "markdown",
      "metadata": {
        "id": "k008Cdzt0VH5",
        "colab_type": "text"
      },
      "source": [
        "# Perplexity on the test corpus and sentence probability\n",
        "\n",
        "How do we calculate the perplexity of a model on a test corpus.\n",
        "\n",
        "Let's say we have *m* sentences in the corpus, the perplexity of the corpus is given by \n",
        "\n",
        "$$ PP(Corpus) = P(S_1, \\cdots, S_m)^{-\\frac{1}{N}} $$\n",
        "\n",
        "We can assume that the sentences are independent\n",
        "\n",
        "$$ PP(Corpus) = (\\prod_{k = 1}^{m}  P(S_k))^{-\\frac{1}{N}} $$\n",
        "\n",
        "Which we calculate in the log space to avoid underflow\n",
        "\n",
        "$$ PP(Corpus) = \\exp ( -\\frac{1}{N} \\sum_{k = 1}^{m}  log(P(S_k)) $$\n",
        "\n",
        "So to calculate the perplexity on a test corpus we need to calculate the probability of each single sentence.\n",
        "\n",
        "The following function calculates the probability of a sentence. \n",
        "\n",
        "Instead of using laplace smoothing to deal with the missing bigrams and tokens, we will simply skip missing elements to make the function faster.\n",
        "Implementing laplace smoothing requires several extra conditions that are taking too much time to run.\n",
        "\n"
      ]
    },
    {
      "cell_type": "code",
      "metadata": {
        "id": "S9DMcOnEIAcp",
        "colab_type": "code",
        "colab": {}
      },
      "source": [
        "def logproba_sentence(sentence, delta = 1):\n",
        "    sentence = tokenizer.tokenize(sentence.lower())\n",
        "    logprob = 0\n",
        "    for ngram in ngrams(\n",
        "        sentence, n= ngrams_degree,  \n",
        "        pad_right=True, pad_left=True, \n",
        "        left_pad_symbol=\"<s>\", right_pad_symbol=\"</s>\"):\n",
        "        prefix = ngram[:ngrams_degree-1]\n",
        "        token = ngram[ngrams_degree-1]\n",
        "        try:\n",
        "          logprob += np.log( freq[prefix][token] )\n",
        "        except:\n",
        "          pass\n",
        "\n",
        "    return logprob\n",
        "\n"
      ],
      "execution_count": 0,
      "outputs": []
    },
    {
      "cell_type": "markdown",
      "metadata": {
        "id": "xv0NB4Qz3T0j",
        "colab_type": "text"
      },
      "source": [
        "We can now implement the perplexity for a whole set of sentences\n",
        "\n",
        "\n",
        "\n"
      ]
    },
    {
      "cell_type": "code",
      "metadata": {
        "id": "J2vZmwl5xajz",
        "colab_type": "code",
        "colab": {}
      },
      "source": [
        "def corpus_perplexity(corpus):\n",
        "  # start by calculating the total number of tokens in the corpus\n",
        "  all_sentences = ' '.join(corpus)\n",
        "\n",
        "  all_tokens =  tokenizer.tokenize(all_sentences.lower())\n",
        "  N = len(tokens)\n",
        "\n",
        "  logprob = 0\n",
        "  for sentence in tqdm(corpus):\n",
        "    logprob += logproba_sentence(sentence)\n",
        "\n",
        "  return np.exp( - logprob / N)\n",
        "\n",
        "\n"
      ],
      "execution_count": 0,
      "outputs": []
    },
    {
      "cell_type": "code",
      "metadata": {
        "id": "d0actWrZxwHV",
        "colab_type": "code",
        "outputId": "956f0690-c16f-47a4-ab90-5779d4692bc5",
        "colab": {
          "base_uri": "https://localhost:8080/",
          "height": 52
        }
      },
      "source": [
        "# The perplexity of a sample of 1000 titles\n",
        "corpus = df_test.text.sample(1000, random_state = 8).values\n",
        "corpus_perplexity(corpus)"
      ],
      "execution_count": 0,
      "outputs": [
        {
          "output_type": "stream",
          "text": [
            "100%|██████████| 1000/1000 [00:00<00:00, 17965.91it/s]\n"
          ],
          "name": "stderr"
        },
        {
          "output_type": "execute_result",
          "data": {
            "text/plain": [
              "20.43715636173114"
            ]
          },
          "metadata": {
            "tags": []
          },
          "execution_count": 183
        }
      ]
    },
    {
      "cell_type": "code",
      "metadata": {
        "id": "VuYVQ3Kd0NV2",
        "colab_type": "code",
        "outputId": "64dac499-1c2b-4b8d-9ea7-9fbcac66a087",
        "colab": {
          "base_uri": "https://localhost:8080/",
          "height": 52
        }
      },
      "source": [
        "# and the perplexity of the whole test corpus\n",
        "corpus_perplexity(df_test.text.values)"
      ],
      "execution_count": 0,
      "outputs": [
        {
          "output_type": "stream",
          "text": [
            "100%|██████████| 83685/83685 [00:04<00:00, 20448.28it/s]\n"
          ],
          "name": "stderr"
        },
        {
          "output_type": "execute_result",
          "data": {
            "text/plain": [
              "7.62349984746957e+109"
            ]
          },
          "metadata": {
            "tags": []
          },
          "execution_count": 185
        }
      ]
    },
    {
      "cell_type": "markdown",
      "metadata": {
        "id": "oszFkWFC7oQv",
        "colab_type": "text"
      },
      "source": [
        "# Building an n-gram language model using NLTK\n",
        "\n",
        "Since version 3.4 the nltk library includes a langage model module.\n",
        "\n",
        "Let's install the right version of nltk. Feel free to install any version > 3.4.5. \n",
        "\n",
        "After running the pip install command below you will need to restart the runtime. This will erase all the local variables. So we will reload and prepare the dataset from scratch. \n",
        "\n",
        "\n"
      ]
    },
    {
      "cell_type": "code",
      "metadata": {
        "id": "OhAIn91_6H_3",
        "colab_type": "code",
        "outputId": "73586843-de56-4a67-8b67-a9a184d4a1fe",
        "colab": {
          "base_uri": "https://localhost:8080/",
          "height": 34
        }
      },
      "source": [
        "import nltk \n",
        "nltk.__version__\n"
      ],
      "execution_count": 0,
      "outputs": [
        {
          "output_type": "execute_result",
          "data": {
            "text/plain": [
              "'3.2.5'"
            ]
          },
          "metadata": {
            "tags": []
          },
          "execution_count": 187
        }
      ]
    },
    {
      "cell_type": "code",
      "metadata": {
        "id": "t19m4dXz9v-j",
        "colab_type": "code",
        "outputId": "e21bb3f7-ef5e-4f81-865e-1c3697518252",
        "colab": {
          "base_uri": "https://localhost:8080/",
          "height": 346
        }
      },
      "source": [
        "!pip install nltk==3.4.5"
      ],
      "execution_count": 0,
      "outputs": [
        {
          "output_type": "stream",
          "text": [
            "Collecting nltk==3.4.5\n",
            "\u001b[?25l  Downloading https://files.pythonhosted.org/packages/f6/1d/d925cfb4f324ede997f6d47bea4d9babba51b49e87a767c170b77005889d/nltk-3.4.5.zip (1.5MB)\n",
            "\u001b[K     |████████████████████████████████| 1.5MB 2.9MB/s \n",
            "\u001b[?25hRequirement already satisfied: six in /usr/local/lib/python3.6/dist-packages (from nltk==3.4.5) (1.12.0)\n",
            "Building wheels for collected packages: nltk\n",
            "  Building wheel for nltk (setup.py) ... \u001b[?25l\u001b[?25hdone\n",
            "  Created wheel for nltk: filename=nltk-3.4.5-cp36-none-any.whl size=1449908 sha256=af817e0ae3f94d89ecc8431dab520e9935a90cafa64e854efc8d97cabe41503c\n",
            "  Stored in directory: /root/.cache/pip/wheels/96/86/f6/68ab24c23f207c0077381a5e3904b2815136b879538a24b483\n",
            "Successfully built nltk\n",
            "Installing collected packages: nltk\n",
            "  Found existing installation: nltk 3.2.5\n",
            "    Uninstalling nltk-3.2.5:\n",
            "      Successfully uninstalled nltk-3.2.5\n",
            "Successfully installed nltk-3.4.5\n"
          ],
          "name": "stdout"
        },
        {
          "output_type": "display_data",
          "data": {
            "application/vnd.colab-display-data+json": {
              "pip_warning": {
                "packages": [
                  "nltk"
                ]
              }
            }
          },
          "metadata": {
            "tags": []
          }
        }
      ]
    },
    {
      "cell_type": "code",
      "metadata": {
        "id": "5JvSBXix9m87",
        "colab_type": "code",
        "outputId": "e00f11ed-f603-4d6d-8299-d44e15da75b0",
        "colab": {
          "base_uri": "https://localhost:8080/",
          "height": 34
        }
      },
      "source": [
        "import nltk \n",
        "nltk.__version__"
      ],
      "execution_count": 0,
      "outputs": [
        {
          "output_type": "execute_result",
          "data": {
            "text/plain": [
              "'3.4.5'"
            ]
          },
          "metadata": {
            "tags": []
          },
          "execution_count": 2
        }
      ]
    },
    {
      "cell_type": "markdown",
      "metadata": {
        "id": "CNxGeiTXAQBv",
        "colab_type": "text"
      },
      "source": [
        "Let's re import all the necessary libraries and set the ngrams degree "
      ]
    },
    {
      "cell_type": "code",
      "metadata": {
        "id": "qhOqdDSN-OwA",
        "colab_type": "code",
        "colab": {}
      },
      "source": [
        "import pandas as pd\n",
        "import numpy as np\n",
        "import re\n",
        "import csv\n",
        "from tqdm import tqdm\n",
        "from collections import defaultdict, Counter\n",
        "from nltk.util import ngrams\n",
        "\n",
        "ngrams_degree = 3\n"
      ],
      "execution_count": 0,
      "outputs": []
    },
    {
      "cell_type": "markdown",
      "metadata": {
        "id": "_kVfTxiPAWHG",
        "colab_type": "text"
      },
      "source": [
        "Now reload the dataset and split it into a test and train set"
      ]
    },
    {
      "cell_type": "code",
      "metadata": {
        "id": "H2G4l-SP-C0N",
        "colab_type": "code",
        "colab": {}
      },
      "source": [
        "# Load data into pandas dataframe, shuffle it and reset the index\n",
        "df = pd.read_csv('https://alexip-ml.s3.amazonaws.com/stackexchange_812k.tokenized.csv.gz', compression='gzip').sample(frac = 1, random_state = 8).reset_index(drop = True)\n"
      ],
      "execution_count": 0,
      "outputs": []
    },
    {
      "cell_type": "code",
      "metadata": {
        "id": "GV82760aBxsn",
        "colab_type": "code",
        "colab": {}
      },
      "source": [
        "df['tokens'] = df.tokens.apply(lambda txt : txt.split())\n",
        "df_train = df[df.category.isin(['post','comment'])].copy()\n",
        "df_test = df[df.category.isin(['title'])].copy()\n"
      ],
      "execution_count": 0,
      "outputs": []
    },
    {
      "cell_type": "markdown",
      "metadata": {
        "id": "QpeUma8QAaVE",
        "colab_type": "text"
      },
      "source": [
        "Finally import the langage model module from nltk and prepare the training data"
      ]
    },
    {
      "cell_type": "code",
      "metadata": {
        "id": "9IUThtv2-e0h",
        "colab_type": "code",
        "colab": {}
      },
      "source": [
        "# from nltk.lm.preprocessing import padded_everygram_pipeline \n",
        "from nltk.lm import MLE\n",
        "from nltk.lm import Vocabulary\n",
        "\n",
        "train_data = [\n",
        "    ngrams(t, n= ngrams_degree,\n",
        "        pad_right=True, pad_left=True,\n",
        "        left_pad_symbol=\"<s>\", right_pad_symbol=\"</s>\")\n",
        "    for t in df_train.tokens.values]\n",
        "\n",
        "words = [word for sent in df_train.tokens.values for word in sent]\n",
        "words.extend([\"<s>\", \"</s>\"])\n",
        "vocab = Vocabulary(words, unk_cutoff = 20)\n",
        "\n"
      ],
      "execution_count": 0,
      "outputs": []
    },
    {
      "cell_type": "markdown",
      "metadata": {
        "id": "jCWrr540_k4Z",
        "colab_type": "text"
      },
      "source": [
        "And define a language mode, fit it"
      ]
    },
    {
      "cell_type": "code",
      "metadata": {
        "id": "L0bCbt3U-wIS",
        "colab_type": "code",
        "outputId": "48228185-2ddf-489b-af52-bc5b289d55fe",
        "colab": {
          "base_uri": "https://localhost:8080/",
          "height": 34
        }
      },
      "source": [
        "# define the model\n",
        "model = MLE(ngrams_degree)\n",
        "\n",
        "# fit the model\n",
        "model.fit(train_data, vocab)\n",
        "\n"
      ],
      "execution_count": 0,
      "outputs": [
        {
          "output_type": "stream",
          "text": [
            "inf\n"
          ],
          "name": "stdout"
        }
      ]
    },
    {
      "cell_type": "markdown",
      "metadata": {
        "id": "rwzSIbsEIvbo",
        "colab_type": "text"
      },
      "source": [
        "Then you can use the perplexity and generate functions of the lm module."
      ]
    },
    {
      "cell_type": "code",
      "metadata": {
        "id": "IwmD9yanIFEv",
        "colab_type": "code",
        "colab": {}
      },
      "source": [
        ""
      ],
      "execution_count": 0,
      "outputs": []
    }
  ]
}